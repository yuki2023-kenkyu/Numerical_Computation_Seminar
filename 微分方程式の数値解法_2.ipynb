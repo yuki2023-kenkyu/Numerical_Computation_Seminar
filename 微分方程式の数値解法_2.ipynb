{
  "nbformat": 4,
  "nbformat_minor": 0,
  "metadata": {
    "colab": {
      "provenance": [],
      "authorship_tag": "ABX9TyPr6gG0G3hUHS5Z97ws10T5",
      "include_colab_link": true
    },
    "kernelspec": {
      "name": "python3",
      "display_name": "Python 3"
    },
    "language_info": {
      "name": "python"
    }
  },
  "cells": [
    {
      "cell_type": "markdown",
      "metadata": {
        "id": "view-in-github",
        "colab_type": "text"
      },
      "source": [
        "<a href=\"https://colab.research.google.com/github/yuki2023-kenkyu/Numerical_Computation_Seminar/blob/main/%E5%BE%AE%E5%88%86%E6%96%B9%E7%A8%8B%E5%BC%8F%E3%81%AE%E6%95%B0%E5%80%A4%E8%A7%A3%E6%B3%95_2.ipynb\" target=\"_parent\"><img src=\"https://colab.research.google.com/assets/colab-badge.svg\" alt=\"Open In Colab\"/></a>"
      ]
    },
    {
      "cell_type": "markdown",
      "metadata": {
        "id": "KcnTUQb-Eu-T"
      },
      "source": [
        "# **微分方程式の数値解法②**\n",
        "___"
      ]
    },
    {
      "cell_type": "markdown",
      "metadata": {
        "id": "e3ztabsXE8QB"
      },
      "source": [
        "　微分方程式の数値解法①では，ルンゲ・クッタ法を用いて１階微分方程式を数値的に解いた．今回は，非線形１階常微分方程式や，２階常微分方程式などを連立ルンゲ・クッタ法を用いて解いていく．"
      ]
    },
    {
      "cell_type": "markdown",
      "metadata": {
        "id": "-oc7OcFzGhIV"
      },
      "source": [
        "## 連立ルンゲ・クッタ法\n",
        "___"
      ]
    },
    {
      "cell_type": "markdown",
      "metadata": {
        "id": "h4a5_6nfGp9n"
      },
      "source": [
        " $N$ 元連立常微分方程式\n",
        "\n",
        "\n",
        " $$\n",
        " \\left\\{\n",
        " \\begin{eqnarray}\n",
        "    \\frac{dy^1}{dx} &=& f_1(x,y^1,y^2,\\cdots,y^N)\\\\\n",
        "    \\frac{dy^2}{dx} &=& f_2(x,y^1,y^2,\\cdots,y^N)\\\\\n",
        "    \\vdots\\\\\n",
        "    \\frac{dy^N}{dx} &=& f_N(x,y^1,y^2,\\cdots,y^N)\\\\\n",
        " \\end{eqnarray}\n",
        " \\right.\n",
        " $$\n",
        "\n",
        "を数値的に解く場合を考える．\n",
        "１階微分方程式の場合と同様に，$x$ の刻みを $h$ として，$x_n=x_0+nh\\quad(n=1,2,\\cdots)$ に対する $y^N\\quad (N=1,2,\\cdots)$ の値 $y_n$ をそれぞれ順々に求めていく．"
      ]
    },
    {
      "cell_type": "markdown",
      "metadata": {
        "id": "MTq2XSvtDSoG"
      },
      "source": [
        "### **連立ルンゲ・クッタ法のアルゴリズム**\n",
        "\n",
        "　連立ルンゲ・クッタ法のアルゴリズムは次の式で表される．\n",
        "\n",
        "$$\n",
        "\\left\\{\n",
        "\\begin{eqnarray}\n",
        "  k_{a1} &=& hf_1(x,y^1,y^2,\\cdots,y^N)\\\\\n",
        "  k_{a2} &=& hf_2(x,y^1,y^2,\\cdots,y^N)\\\\\n",
        "  \\vdots\\\\\n",
        "  k_{aN} &=& hf_N(x,y^1,y^2,\\cdots,y^N)\\\\\n",
        "\\end{eqnarray}\n",
        "\\tag{ⅰ}\n",
        "\\right.\n",
        "$$\n",
        "\n",
        "\n",
        "$$\n",
        "\\left\\{\n",
        "\\begin{eqnarray}\n",
        "  k_{b1} &=& hf_1(x+{h}/{2},y^1+{k_{a1}}/{2},y^2+{k_{a2}}/{2},\\cdots,y^N+{k_{aN}}/{2})\\\\\n",
        "  k_{b2} &=& hf_2(x+{h}/{2},y^1+{k_{a1}}/{2},y^2+{k_{a2}}/{2},\\cdots,y^N+{k_{aN}}/{2})\\\\\n",
        "  \\vdots\\\\\n",
        "  k_{bN} &=& hf_N(x+{h}/{2},y^1+{k_{a1}}/{2},y^2+{k_{a2}}/{2},\\cdots,y^N+{k_{aN}}/{2})\\\\\n",
        "\\end{eqnarray}\n",
        "\\tag{ⅱ}\n",
        "\\right.\n",
        "$$\n",
        "\n",
        "\n",
        "$$\n",
        "\\left\\{\n",
        "\\begin{eqnarray}\n",
        "  k_{c1} &=& hf_1(x+{h}/{2},y^1+{k_{b1}}/{2},y^2+{k_{b2}}/{2},\\cdots,y^N+{k_{bN}}/{2})\\\\\n",
        "  k_{c2} &=& hf_2(x+{h}/{2},y^1+{k_{b1}}/{2},y^2+{k_{b2}}/{2},\\cdots,y^N+{k_{bN}}/{2})\\\\\n",
        "  \\vdots\\\\\n",
        "  k_{cN} &=& hf_N(x+{h}/{2},y^1+{k_{b1}}/{2},y^2+{k_{b2}}/{2},\\cdots,y^N+{k_{bN}}/{2})\\\\\n",
        "\\end{eqnarray}\n",
        "\\tag{ⅲ}\n",
        "\\right.\n",
        "$$\n",
        "\n",
        "\n",
        "$$\n",
        "\\left\\{\n",
        "\\begin{eqnarray}\n",
        "  k_{d1} &=& hf_1(x+h,y^1+k_{c1},y^2+k_{c2},\\cdots,y^N+k_{cN})\\\\\n",
        "  k_{d2} &=& hf_2(x+h,y^1+k_{c1},y^2+k_{c2},\\cdots,y^N+k_{cN})\\\\\n",
        "  \\vdots\\\\\n",
        "  k_{dN} &=& hf_N(x+h,y^1+k_{c1},y^2+k_{c2},\\cdots,y^N+k_{cN})\\\\\n",
        "\\end{eqnarray}\n",
        "\\tag{ⅳ}\n",
        "\\right.\n",
        "$$\n",
        "\n",
        "$$\n",
        "\\left\\{\n",
        "\\begin{eqnarray}\n",
        "  y^1_{n+1} &=& y^1_n+\\frac{1}{6}(k_{a1}+2k_{b1}+2k_{c1}+k_{d1})\\\\\n",
        "  y^2_{n+1} &=& y^2_n+\\frac{1}{6}(k_{a2}+2k_{b2}+2k_{c2}+k_{d2})\\\\\n",
        "  \\vdots\\\\\n",
        "  y^N_{n+1} &=& y^N_n+\\frac{1}{6}(k_{aN}+2k_{bN}+2k_{cN}+k_{dN})\\\\\n",
        "\\end{eqnarray}\n",
        "\\tag{ⅴ}\n",
        "\\right.\n",
        "$$\n",
        "\n",
        "\n",
        "　このとき，刻み $h$ は分割数 $m$ ，$x$ の初期条件 $x_0$，$x$ の上限値 $x_{max}$ を用いて\n",
        "\n",
        "$$\n",
        "h=(x_{max}-x_0)/m\n",
        "$$\n",
        "\n",
        "として求められる．\n",
        "\n",
        "参考URL：[３章：連立ルンゲ・クッタ法による微分方程式の解](http://skomo.o.oo7.jp/f20/hp20_4-3.htm) 2021/10/22 閲覧．"
      ]
    },
    {
      "cell_type": "markdown",
      "metadata": {
        "id": "B-5eRt_CFjEC"
      },
      "source": [
        "### 非線形１階常微分方程式の場合\n",
        "___"
      ]
    },
    {
      "cell_type": "markdown",
      "metadata": {
        "id": "I5xPdNjzF7bW"
      },
      "source": [
        ">例題２\n",
        "\n",
        "　　　Lorenz 方程式\n",
        "$$\n",
        "\\left\\{\n",
        "  \\begin{eqnarray}\n",
        "    \\frac{dx}{dt} &=& -px+py\\\\\n",
        "    \\frac{dy}{dt} &=& -xz+rx-y\\\\\n",
        "    \\frac{dz}{dt} &=& xy-bz\\\\\n",
        "  \\end{eqnarray}\n",
        "  \\right.\n",
        "$$\n",
        "\n",
        "\n",
        "　　を，初期条件 $p=10,r=28,b=8/3,t_0=0,t_{max}=20,x_0=1,y_0=1,z_0=1$ のもとで解く．\n"
      ]
    },
    {
      "cell_type": "markdown",
      "metadata": {
        "id": "bwfE43TNG8EV"
      },
      "source": [
        ">解答"
      ]
    },
    {
      "cell_type": "markdown",
      "metadata": {
        "id": "L7Jb4xZj0PWa"
      },
      "source": [
        "```python\n",
        "# ライブラリのインポート\n",
        "\n",
        "# 数値計算用\n",
        "import numpy as np\n",
        "# グラフ描画用\n",
        "import matplotlib.pyplot as plt\n",
        "# グラフ3D化用\n",
        "from mpl_toolkits.mplot3d import Axes3D\n",
        "\n",
        "# 関数定義\n",
        "# 数値計算の対象\n",
        "def f_1(t, x, y, z):\n",
        "  return -p*x + p*y\n",
        "\n",
        "def f_2(t, x, y, z):\n",
        "  return -x*z + r*x -y\n",
        "\n",
        "def f_3(t, x, y, z):\n",
        "  return x*y -b*z\n",
        "\n",
        "# Runge-Kuttaを実行する関数\n",
        "def Runge_Kutta(r0, t0, tmax, h, f):\n",
        "  # 初期条件の数＝初期条件を格納したリストの長さ\n",
        "  width = len(r0)\n",
        "  # 初期条件を格納したリストを代入\n",
        "  vector_r = r0\n",
        "  # tの初期値t0を代入\n",
        "  t = t0\n",
        "  # 積分結果の格納用リスト\n",
        "  orbit = []\n",
        "  # Runge-Kutta\n",
        "  while t < tmax:\n",
        "    # リスト「orbit」にそれぞれの積分結果を追加\n",
        "    orbit.append(list(vector_r))\n",
        "\n",
        "    r1 = vector_r\n",
        "    k1 = list(map(lambda e: e(t, *r1), f))\n",
        "\n",
        "    r2 = vector_r\n",
        "    for i in range(width):\n",
        "      r2[i] += h/2 * k1[i]\n",
        "    k2 = list(map(lambda e: e(t + h/2, *r2), f))\n",
        "\n",
        "    r3 = vector_r\n",
        "    for i in range(width):\n",
        "      r3[i] += h/2 * k2[i]\n",
        "    k3 = list(map(lambda e: e(t + h/2, *r3), f))\n",
        "\n",
        "    r4 = vector_r\n",
        "    for i in range(width):\n",
        "      r4[i] += h * k3[i]\n",
        "    k4 = list(map(lambda e: e(t + h, *r4), f))\n",
        "\n",
        "    for i in range(width):\n",
        "      vector_r[i] += h/6 * (k1[i] + 2*k2[i] + 2*k3[i] + k4[i])\n",
        "    \n",
        "    t += h\n",
        "\n",
        "  return orbit\n",
        "\n",
        "# 数値計算の対象関数を格納するリスト\n",
        "func_vector = [f_1, f_2, f_3]\n",
        "# 初期条件\n",
        "x0 = 1\n",
        "y0 = 1\n",
        "z0 = 1\n",
        "r0 = [x0, y0, z0]\n",
        "# 定数の設定\n",
        "p = 10\n",
        "r = 28\n",
        "b = 8/3\n",
        "# 変域の設定\n",
        "t0 = 0\n",
        "tmax = 20\n",
        "# 刻み幅の設定\n",
        "m = 2**15\n",
        "h = (tmax - t0)/m\n",
        "# グラフ描画用のデータリストの用意\n",
        "xpoints = []\n",
        "ypoints = []\n",
        "zpoints = []\n",
        "\n",
        "# Runge-Kutta関数を呼び出して実行\n",
        "orbit = Runge_Kutta(r0, t0, tmax, h, func_vector)\n",
        "\n",
        "# Runge-Kutta関数を用いた結果を繰り返しリストに格納\n",
        "for i in range (len(orbit)):\n",
        "  xpoints.append(orbit[i][0])\n",
        "  ypoints.append(orbit[i][1])\n",
        "  zpoints.append(orbit[i][2])\n",
        "\n",
        "# グラフ化用\n",
        "fig = plt.figure(figsize = (10, 10))\n",
        "# 3D化用\n",
        "ax = fig.add_subplot(111, projection = '3d')\n",
        "ax.plot(xpoints, ypoints, zpoints, '-', label = 'Lorenz Equation (Numerical)')\n",
        "# ラベルの設定\n",
        "ax.set_xlabel(\"x\")\n",
        "ax.set_ylabel(\"y\")\n",
        "ax.set_zlabel(\"z\")\n",
        "# 凡例の設定\n",
        "plt.legend(loc = 'best')\n",
        "```"
      ]
    },
    {
      "cell_type": "markdown",
      "metadata": {
        "id": "yfIB_V_5B4vm"
      },
      "source": [
        "参考URL：\n",
        "\n",
        "・[「微分方程式の数値解法」（水谷正大，大東文化大学）](http://www.ic.daito.ac.jp/~mizutani/python/differential_eq.html) 2021/10/23 閲覧．\n",
        "\n",
        "・[ラムダ式](https://qiita.com/nagataaaas/items/531b1fc5ce42a791c7df) 2021/10/28 閲覧．\n",
        "\n",
        "・[map関数](https://dot-blog.jp/news/python-map-function/) 2021/10/28 閲覧．"
      ]
    },
    {
      "cell_type": "markdown",
      "metadata": {
        "id": "8vfd2vLkFomB"
      },
      "source": [
        "### ２階常微分方程式の場合\n",
        "___"
      ]
    },
    {
      "cell_type": "markdown",
      "metadata": {
        "id": "YV-IzW9nnHXt"
      },
      "source": [
        "　２階常微分方程式は，置き換えなどを利用して１階微分方程式の連立微分方程式に変形すると，連立ルンゲ・クッタ法を用いて解くことができる．\n",
        "\n",
        "\n"
      ]
    },
    {
      "cell_type": "markdown",
      "metadata": {
        "id": "vrOAtgJEGDad"
      },
      "source": [
        ">例題３\n"
      ]
    },
    {
      "cell_type": "markdown",
      "metadata": {
        "id": "Im-wdGL7G89D"
      },
      "source": [
        "　　　２階常微分方程式\n",
        "$$\n",
        "\\begin{eqnarray}\n",
        "  m \\ddot{x}-kx = 0\n",
        "  \\end{eqnarray}\n",
        "$$\n",
        "\n",
        "　　を，初期条件 $m=k=1, x_0=0,\\dot x_0=1,t_0=0,t_{max}=10\\pi$ のもとで解く．"
      ]
    },
    {
      "cell_type": "markdown",
      "metadata": {
        "id": "TtFL0n1A1kVk"
      },
      "source": [
        ">解答\n",
        "\n",
        "　　　２階常微分方程式を１階微分方程式の連立微分方程式へと変形すればよい．\n",
        "\n",
        "$$\n",
        "\\begin{eqnarray}\n",
        "  m \\ddot{x}-kx = 0 \\quad i.e., \\quad \\ddot{x} = -\\frac{k}{m}x\\\\\n",
        "\\end{eqnarray}\n",
        "$$\n",
        "\n",
        "　　ここで， $\\frac{dx}{dt} = v$ と置き換えると，\n",
        "\n",
        "$$\n",
        "\\left\\{\n",
        "\\begin{eqnarray}\n",
        "  \\frac{dv}{dt} &=& -\\frac{k}{m} x\\\\\n",
        "  \\frac{dx}{dt} &=& v\\\\\n",
        "\\end{eqnarray}\n",
        "\\right.\n",
        "$$\n",
        "\n",
        "　　となる．この連立微分方程式を数値計算する．"
      ]
    },
    {
      "cell_type": "markdown",
      "metadata": {
        "id": "qRq1u3vO40nw"
      },
      "source": [
        "```python\n",
        "import numpy as np\n",
        "import matplotlib.pyplot as plt\n",
        "\n",
        "# 数値計算の対象\n",
        "\n",
        "# dv/dt\n",
        "def f(t, v, x):\n",
        "    return -(k/m) * x\n",
        "\n",
        "# dx/dt\n",
        "def g(t, v, x):\n",
        "    return v\n",
        "\n",
        "# 初期条件の設定\n",
        "tmax = 10*np.pi\n",
        "t_0 = 0\n",
        "v_0 = 1\n",
        "x_0 = 0\n",
        "\n",
        "k = 1\n",
        "m = 1\n",
        "\n",
        "#刻み幅の設定\n",
        "n = 1024\n",
        "h = (tmax - t_0) / n\n",
        "\n",
        "# リストの用意\n",
        "tpoints = np.arange(t_0, tmax, h)\n",
        "vpoints = []\n",
        "xpoints = []\n",
        "\n",
        "# 初期値の代入\n",
        "t = t_0\n",
        "v = v_0\n",
        "x = x_0\n",
        "\n",
        "#for文：for i in range(start, end, step(きざみ)):  \n",
        "for t in tpoints:\n",
        "    # apoints.append(a):リストapointsに要素aを追加\n",
        "    vpoints.append(v)\n",
        "    xpoints.append(x)\n",
        "\n",
        "    k1 = h * f(t, v, x)\n",
        "    l1 = h * g(t, v, x)\n",
        "    \n",
        "    k2 = h * f(t + h/2, v + k1/2, x + l1/2)\n",
        "    l2 = h * g(t + h/2, v + k1/2, x + l1/2)\n",
        "    \n",
        "    k3 = h * f(t + h/2, v + k2/2, x + l2/2)\n",
        "    l3 = h * g(t + h/2, v + k2/2, x + l2/2)\n",
        "    \n",
        "    k4 = h * f(t + h, v + k3, x + l3)\n",
        "    l4 = h * g(t + h, v + k3, x + l3)\n",
        "    \n",
        "    v += (k1 + 2*k2 + 2*k3 + k4)/6\n",
        "    x += (l1 + 2*l2 + 2*l3 + l4)/6\n",
        "\n",
        "# グラフ化用\n",
        "fig = plt.figure(figsize = (10, 10))\n",
        "# グラフの背景色の設定\n",
        "fig, ax = plt.subplots(facecolor = 'white')\n",
        "# グラフ化用\n",
        "plt.plot(tpoints, xpoints, '--', label = '4th order Runge-Kutta')\n",
        "# ラベルの設定\n",
        "plt.xlabel(\"t\")\n",
        "plt.ylabel(\"x\")\n",
        "# 凡例の設定\n",
        "plt.legend(loc = 'best')\n",
        "```"
      ]
    },
    {
      "cell_type": "markdown",
      "metadata": {
        "id": "NNQhgyBCHaU9"
      },
      "source": [
        "## 演習問題②\n",
        "___"
      ]
    },
    {
      "cell_type": "markdown",
      "metadata": {
        "id": "8JRbO9ZnHdnG"
      },
      "source": [
        "[1]　例題２，例題３のプログラムをそれぞれ実行しなさい．\n",
        "\n",
        "\n",
        "[2]　次の問題について，それぞれ数値計算せよ．\n",
        "\n",
        "$$\n",
        " \\begin{eqnarray}\n",
        "  &(1)& \\quad &\\frac{dx}{dt} = a\\cos{at},\n",
        "  \\quad &\\frac{dy}{dt} = b\\cos{bt}. \\quad &\n",
        "  &(a=4,b=5,t_0=0,x_0=0,y_0=0,t_{max}=2\\pi)\\\\\n",
        "  &(2)& \\quad &\\frac{dx}{d\\theta} = -2\\ (\\sin{2\\theta}+\\sin\\theta),\n",
        "  \\quad &\\frac{dy}{d\\theta} = 2\\ (\\cos{2\\theta}+\\cos\\theta). \\quad  &\n",
        "  &(\\theta_0=0,x_0=4,y_0=0,\\theta_{max}=2\\pi)\\\\\n",
        "  &(3)& \\quad &\\frac{dx}{dt} = -y-z,\n",
        "  &\\frac{dy}{dt} = x+ay,\n",
        "  &\\frac{dz}{dt} = b+z(x-c). \\quad\n",
        "  &(a=0.398,b=2,c=4,t_0=0,x_0=0.01,y_0=0.01,z_0=0.01,t_{max}=150)\\\\\n",
        "  &(4)& \\quad &\\frac{d^2y}{dx^2}+4\\ \\frac{dy}{dx}+3y=0.\\quad\n",
        "  &(\\left.\\frac{dy}{dx}\\right|_{x=x_0}=1,x_0=0,y_0=0,x_{max}=10)\\\\\n",
        "  &(5)& \\quad &\\frac{d^2y}{dx^2} + y = \\cos x .\\quad\n",
        "  &(\\left.\\frac{dy}{dx}\\right|_{x=x_0}=0,x_0=0,y_0=0,x_{max}=8\\pi)\\\\\n",
        " \\end{eqnarray}\n",
        "$$\n",
        "\n",
        "[3]　次の式であらわされるロジスティック写像を計算し，その分岐図を作成しなさい．\n",
        "\n",
        "$$\n",
        "    x_{i+1} = a x_i (1 - x_i)\n",
        "$$"
      ]
    }
  ]
}