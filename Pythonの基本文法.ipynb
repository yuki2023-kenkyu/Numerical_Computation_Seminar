{
  "cells": [
    {
      "cell_type": "markdown",
      "metadata": {
        "id": "view-in-github",
        "colab_type": "text"
      },
      "source": [
        "<a href=\"https://colab.research.google.com/github/yuki2023-kenkyu/Numerical_Computation_Seminar/blob/main/Python%E3%81%AE%E5%9F%BA%E6%9C%AC%E6%96%87%E6%B3%95.ipynb\" target=\"_parent\"><img src=\"https://colab.research.google.com/assets/colab-badge.svg\" alt=\"Open In Colab\"/></a>"
      ]
    },
    {
      "cell_type": "markdown",
      "id": "2e5a7bb4-ea18-4aff-aa76-300a30b456a7",
      "metadata": {
        "id": "2e5a7bb4-ea18-4aff-aa76-300a30b456a7"
      },
      "source": [
        "# Pythonの基本文法を学ぼう"
      ]
    },
    {
      "cell_type": "markdown",
      "id": "1ec0bec8-2e11-4597-a954-a475c40fe6f1",
      "metadata": {
        "id": "1ec0bec8-2e11-4597-a954-a475c40fe6f1",
        "tags": []
      },
      "source": [
        "## 1. 文字列や数値とその出力"
      ]
    },
    {
      "cell_type": "markdown",
      "id": "8e83df94-213f-417b-bb6b-d4114886e3b3",
      "metadata": {
        "id": "8e83df94-213f-417b-bb6b-d4114886e3b3"
      },
      "source": [
        "数値以外の文字(全角文字を含む)は全てダブルクォーテーション\" \"またはシングルクォーテーション' 'で囲み，**文字列**として扱う必要がある．"
      ]
    },
    {
      "cell_type": "markdown",
      "id": "f97dda2b-b916-405b-9485-0bd851164096",
      "metadata": {
        "id": "f97dda2b-b916-405b-9485-0bd851164096"
      },
      "source": [
        "### 練習1.1：「Hello, world!」の出力\n",
        "以下のセルにHello, world!をprint文で出力しなさい．"
      ]
    },
    {
      "cell_type": "code",
      "execution_count": null,
      "id": "03b437b2-d74e-46d3-a226-494eb7c35fd1",
      "metadata": {
        "id": "03b437b2-d74e-46d3-a226-494eb7c35fd1"
      },
      "outputs": [],
      "source": []
    },
    {
      "cell_type": "markdown",
      "id": "f4865214-3f82-4508-877e-9e58f2386f2a",
      "metadata": {
        "id": "f4865214-3f82-4508-877e-9e58f2386f2a"
      },
      "source": [
        "**数値**は四則演算などの演算の対象となる．\n",
        "演算は，加法「+」，減法「-」，乗法「＊」，除法「/」，累乗「＊＊」，剰余「%」などがある"
      ]
    },
    {
      "cell_type": "markdown",
      "id": "29e7816c-a65d-41d9-a293-8543dcef3ba4",
      "metadata": {
        "id": "29e7816c-a65d-41d9-a293-8543dcef3ba4"
      },
      "source": [
        "#### 練習1.2：数値の出力と四則演算\n",
        "以下のセルに適当な数値を演算し，print文で出力しなさい．"
      ]
    },
    {
      "cell_type": "code",
      "execution_count": null,
      "id": "29e29016-2de8-42e1-b2f5-0f8c41a2e78e",
      "metadata": {
        "id": "29e29016-2de8-42e1-b2f5-0f8c41a2e78e"
      },
      "outputs": [],
      "source": []
    },
    {
      "cell_type": "code",
      "execution_count": null,
      "id": "f89f62d7-22b3-4026-8997-ce4635819e98",
      "metadata": {
        "id": "f89f62d7-22b3-4026-8997-ce4635819e98"
      },
      "outputs": [],
      "source": []
    },
    {
      "cell_type": "markdown",
      "id": "2a20905b-8fec-4e0b-91f1-d8a74fcdcbed",
      "metadata": {
        "id": "2a20905b-8fec-4e0b-91f1-d8a74fcdcbed"
      },
      "source": [
        "## 2. 変数とデータ型"
      ]
    },
    {
      "cell_type": "markdown",
      "id": "09b4ccc1-198e-4632-9caa-5c19229faad7",
      "metadata": {
        "id": "09b4ccc1-198e-4632-9caa-5c19229faad7"
      },
      "source": [
        "### (プログラミングにおける)変数とは？\n",
        "数値や文字などを別なものとして名付けたもの．\n",
        "変数の名前を変数名という．"
      ]
    },
    {
      "cell_type": "markdown",
      "id": "d6065405-296e-4c58-9c4c-0cd3a9c8f0ed",
      "metadata": {
        "id": "d6065405-296e-4c58-9c4c-0cd3a9c8f0ed"
      },
      "source": [
        "### 練習2.1：変数への代入と出力\n",
        "適当な変数を複数作成し，それらに数値や文字列を代入しなさい．また，変数を呼び出すことでその結果（中身）を確認しなさい．"
      ]
    },
    {
      "cell_type": "code",
      "execution_count": null,
      "id": "67898344-d5d6-4997-90fc-52a6a557bcaf",
      "metadata": {
        "id": "67898344-d5d6-4997-90fc-52a6a557bcaf"
      },
      "outputs": [],
      "source": []
    },
    {
      "cell_type": "code",
      "execution_count": null,
      "id": "88e617b7-eace-4d47-bfdf-4410dc2c61f9",
      "metadata": {
        "id": "88e617b7-eace-4d47-bfdf-4410dc2c61f9"
      },
      "outputs": [],
      "source": []
    },
    {
      "cell_type": "markdown",
      "id": "eeab53f0-f4c7-45a0-b2fc-9b8e02c6e74c",
      "metadata": {
        "id": "eeab53f0-f4c7-45a0-b2fc-9b8e02c6e74c"
      },
      "source": [
        "### 変数の命名規則\n",
        "基本的には以下の規則に従い変数を命名することを推奨する．\n",
        "- ３文字以上\n",
        "- 全て小文字を使用\n",
        "- その変数の果たす役割を英単語などで表す\n",
        "- 2単語以上になる場合はアンダースコア「_」でつなげる．\n",
        "\n",
        "詳細は以下のURLを参照すること．\n",
        "[Python命名規則一覧](https://qiita.com/naomi7325/items/4eb1d2a40277361e898b)"
      ]
    },
    {
      "cell_type": "markdown",
      "id": "5e03bf58-fd82-4c5d-8858-cd84622398e4",
      "metadata": {
        "id": "5e03bf58-fd82-4c5d-8858-cd84622398e4"
      },
      "source": [
        "### データ型とは\n",
        "プログラミングにおける**データ型**とは，データの種類のこと．データ型によって，コンピューターでのデータの扱われ方が変わる．\n",
        "\n",
        "また，変数に値を代入すると，代入された値によって，その変数のデータ型が決まる．"
      ]
    },
    {
      "cell_type": "markdown",
      "id": "a83e098f-6e8b-4024-8ad2-27c36ed2bc8b",
      "metadata": {
        "id": "a83e098f-6e8b-4024-8ad2-27c36ed2bc8b"
      },
      "source": [
        "### Pythonにおける様々なデータ型\n",
        "\n",
        "| type     | データ型         | 説明                                                                                                                                                                                                                                                       |\n",
        "| -------- | ---------------- | ---------------------------------------------------------------------------------------------------------------------------------------------------------------------------------------------------------------------------------------------------------- |\n",
        "| str      | 文字列           | \" \" や '  ' で囲まれたもの                                                                                                                                                                                                                                 |\n",
        "| int      | 数値（整数）     | 小数点を含まない数値                                                                                                                                                                                                                                       |\n",
        "| float    | 数値（浮動小数） | 小数点を含む数値（単精度や倍精度を含む）                                                                                                                                                                                                                   |\n",
        "| bool     | 真偽値           | TrueやFalse                                                                                                                                                                                                                                                |\n",
        "| datetime | 日付             | 日付                                                                                                                                                                                                                                                       |\n",
        "| list     | リスト           | 1. 複数のデータ型（文字列，整数，論理など）を要素として含む．<br>2. [ ] を使って定義し，各要素の間はカンマ','で区切る．<br>3. 格納した各要素の変更が可能（ミュータブル）．                                                                                 |\n",
        "| tuple    | タプル           | 1. 複数のデータ型（文字列，整数，論理など）を要素として含む．<br>2. ( ) を使って定義し，各要素の間はカンマ','で区切る．<br>3. 格納した各要素の変更は不可能（イミュータブル）．                                                                             |\n",
        "| dict     | 辞書             | 1. 複数のデータ型（文字列，整数，論理など）を要素として含む．<br>2. { }を使って定義し，各要素は、キーと組合せて間にコロン':'を挟み記述する．<br>3. キー値と合わせて値を設定することにより，キー値を元に値を参照できる．<br>4. 格納した各要素の変更は可能． |\n",
        "| set      | 集合             | 1. リストと同じ性質を持つが，重複を許さない．<br>2. set( )で定義し，各要素の間はカンマ','で区切る．                                                                                                                                                        |\n",
        "| ndarray  | numpy配列        | 1. 複数のデータ型を要素として持つことができない．<br>2. 基本的に数値型の要素を扱うデータ構造．<br>3. 配列同士での演算が可能（条件あり）．<br>4. 格納した各要素の変更は可能．                                                                               |\n",
        "\n",
        "参考：[【Python】リスト型・配列型・タプル型・辞書型の違い・使い方【Python】リスト型・配列型・タプル型・辞書型の違い・使い方](https://algorithm.joho.info/programming/python/list-tuple-dict-chigai/https://algorithm.joho.info/programming/python/list-tuple-dict-chigai/)"
      ]
    },
    {
      "cell_type": "markdown",
      "id": "473e8621-f391-4048-9373-0f91759d7fd0",
      "metadata": {
        "id": "473e8621-f391-4048-9373-0f91759d7fd0"
      },
      "source": [
        "### 練習2.2：変数のデータ型の確認と要素の扱い方\n",
        "練習2.2.1 以下の変数のデータ型を`type()`で確認しなさい．"
      ]
    },
    {
      "cell_type": "code",
      "execution_count": null,
      "id": "935873da-6472-4b1b-8a25-996d9e2834cf",
      "metadata": {
        "id": "935873da-6472-4b1b-8a25-996d9e2834cf"
      },
      "outputs": [],
      "source": []
    },
    {
      "cell_type": "markdown",
      "id": "1dbc85de-1283-4967-a3a9-d8d61490083c",
      "metadata": {
        "id": "1dbc85de-1283-4967-a3a9-d8d61490083c"
      },
      "source": [
        "練習2.2.2. 上の変数のうち，list型やtuple型，dict型の変数に格納されている先頭の要素を適当に呼び出しなさい．"
      ]
    },
    {
      "cell_type": "code",
      "execution_count": null,
      "id": "23097b90-5bf8-4173-aa1d-6be6f40e0eae",
      "metadata": {
        "id": "23097b90-5bf8-4173-aa1d-6be6f40e0eae"
      },
      "outputs": [],
      "source": []
    },
    {
      "cell_type": "markdown",
      "id": "43834bcd-78b4-48f3-b374-47eb7fa219f7",
      "metadata": {
        "id": "43834bcd-78b4-48f3-b374-47eb7fa219f7"
      },
      "source": [
        "## 3. 関数定義の基本"
      ]
    },
    {
      "cell_type": "markdown",
      "id": "109e83d8-e7d5-49ef-906c-b8fd075fada9",
      "metadata": {
        "id": "109e83d8-e7d5-49ef-906c-b8fd075fada9"
      },
      "source": [
        "### （プログラムにおける）関数とは\n",
        "- 何らかの値（**引数**）を渡すと，その値に応じた処理を行い，何らかの値（**戻り値**，**返り値**）を返すもの．\n",
        "\n",
        "- 関数に引数を渡し，関数のコードを実行し，その処理結果を得る一連の流れを，「関数呼び出し」，「関数の実行」などという．\n",
        "\n",
        "参考：[[Python入門]関数の基本](https://atmarkit.itmedia.co.jp/ait/articles/1905/17/news020.html)"
      ]
    },
    {
      "cell_type": "markdown",
      "id": "24fed2f9-5b13-41c7-a519-515b7918ad58",
      "metadata": {
        "id": "24fed2f9-5b13-41c7-a519-515b7918ad58"
      },
      "source": [
        "### 関数定義の構文\n",
        "以下のように関数を定義する．\n",
        "```python\n",
        "def function_name(argument1, argument2, ...):\n",
        "    # 関数内で実行したい処理を記述する．\n",
        "    local_variable = argument1 + argument2\n",
        "    return local_variable\n",
        "```"
      ]
    },
    {
      "cell_type": "markdown",
      "id": "632c08e9-ad42-4b37-928c-4c9f037e2bad",
      "metadata": {
        "id": "632c08e9-ad42-4b37-928c-4c9f037e2bad"
      },
      "source": [
        "### 練習3.1 関数の定義\n",
        "2つの変数をそれぞれ$n$倍して返す関数を作成しなさい．また，その関数を実行してみなさい．"
      ]
    },
    {
      "cell_type": "code",
      "execution_count": null,
      "id": "7549e1c2-310c-4f3e-998e-58ca54f0b8d5",
      "metadata": {
        "id": "7549e1c2-310c-4f3e-998e-58ca54f0b8d5"
      },
      "outputs": [],
      "source": []
    },
    {
      "cell_type": "markdown",
      "id": "3107b67d-30aa-47a9-b802-1893777de3fa",
      "metadata": {
        "id": "3107b67d-30aa-47a9-b802-1893777de3fa"
      },
      "source": [
        "## 4. 条件分岐"
      ]
    },
    {
      "cell_type": "markdown",
      "id": "c32b34ee-73bc-4364-b477-128c67d8ce21",
      "metadata": {
        "id": "c32b34ee-73bc-4364-b477-128c67d8ce21"
      },
      "source": [
        "### 条件分岐とは\n",
        "制御構造の１つ．条件に応じて実行する処理を分岐させること．\n",
        "\n",
        "基本的には，ある条件に対して当てはまる（真の）場合とそうでない（偽の）場合それぞれに対して実行する処理を記述する．\n",
        "\n",
        "また，繰り返し処理の中で行われることが多い．\n",
        "\n",
        "条件分岐を用いた処理の例：\n",
        "```python\n",
        "a = 1\n",
        "b = 2\n",
        "if(a-b == 0):\n",
        "    print(\"aとbの差は０\")\n",
        "elif(a-b > 0):\n",
        "    print(\"aとbの差は正\")\n",
        "else:\n",
        "    print(\"aとbの差は負\")\n",
        "```"
      ]
    },
    {
      "cell_type": "markdown",
      "id": "87189fc9-d4eb-485d-8aa2-c54005eece15",
      "metadata": {
        "id": "87189fc9-d4eb-485d-8aa2-c54005eece15"
      },
      "source": [
        "## 5. 繰り返し処理(for文)"
      ]
    },
    {
      "cell_type": "markdown",
      "id": "15d6be1b-ae31-43b1-bf61-9bf6c5675824",
      "metadata": {
        "id": "15d6be1b-ae31-43b1-bf61-9bf6c5675824"
      },
      "source": [
        "### 繰り返し処理とは\n",
        "制御構造の１つ．ある処理を複数回繰り返し行う際に使用する．\n",
        "\n",
        "Pythonでは，while文とfor文が用意されているが，ここではfor文の具体的な使い方をみていく．\n",
        "\n",
        "```python\n",
        "a = \"I \"\n",
        "b = \"LOVE \"\n",
        "c = \"数値計算\"\n",
        "n = 100\n",
        "\n",
        "for _ in range(n):\n",
        "    # 繰り返したい処理\n",
        "    print(a + b)\n",
        "\n",
        "for i in range(n):\n",
        "    print(a + b + c + f\"{i+1}回目\")\n",
        "```\n",
        "\n",
        "このように，for文は，\n",
        "```python\n",
        "for 変数 in リスト：\n",
        "    処理１\n",
        "    処理２\n",
        "    ...\n",
        "```\n",
        "のような構造となっている．"
      ]
    },
    {
      "cell_type": "markdown",
      "id": "afbda4fa-ee92-435d-8138-ad6ee5fc0f17",
      "metadata": {
        "id": "afbda4fa-ee92-435d-8138-ad6ee5fc0f17"
      },
      "source": [
        "### 練習5.1 for文とif文を用いた繰り返し処理\n",
        "1 ~ 10までの数値を格納したリストを用意し，for文で繰り返しリスト内の要素のすべての和をとる処理を書きなさい．\n",
        "\n",
        "また，その際，要素の和が40以上になったら`break`（処理を終了）するようにしなさい．"
      ]
    },
    {
      "cell_type": "code",
      "execution_count": null,
      "id": "58a57e4a-d21e-4a9a-9bf4-31c696396164",
      "metadata": {
        "id": "58a57e4a-d21e-4a9a-9bf4-31c696396164"
      },
      "outputs": [],
      "source": []
    },
    {
      "cell_type": "code",
      "execution_count": null,
      "id": "22a1d70a-b655-4b86-8b74-0ab2c644cd9b",
      "metadata": {
        "id": "22a1d70a-b655-4b86-8b74-0ab2c644cd9b"
      },
      "outputs": [],
      "source": []
    },
    {
      "cell_type": "code",
      "execution_count": null,
      "id": "34bf6569-3791-42a0-a02f-ed3ae586014c",
      "metadata": {
        "id": "34bf6569-3791-42a0-a02f-ed3ae586014c"
      },
      "outputs": [],
      "source": []
    },
    {
      "cell_type": "markdown",
      "id": "6b476e0e-aee1-4c22-8cde-f3c8d3d7138e",
      "metadata": {
        "tags": [],
        "id": "6b476e0e-aee1-4c22-8cde-f3c8d3d7138e"
      },
      "source": [
        "## 6. ライブラリ"
      ]
    },
    {
      "cell_type": "markdown",
      "id": "5bb0c09a-0909-4b71-b855-b94554d916e8",
      "metadata": {
        "id": "5bb0c09a-0909-4b71-b855-b94554d916e8"
      },
      "source": [
        "### モジュールやパッケージ，ライブラリについて\n",
        "- モジュール\n",
        "  - defやclassなどを含む 拡張子が`.py `の ファイル\n",
        "- パッケージ\n",
        "  - 複数のモジュールをまとめたフォルダ\n",
        "- ライブラリ\n",
        "  - 複数のパッケージをまとめたもの\n",
        "\n",
        "たいていはライブラリをプログラムの最初にimportすることによって使用する．\n",
        "\n",
        "ライブラリのインポートの仕方は以下の資料を参照すること．\n",
        "\n",
        "[ライブラリのインポート方法](https://blog.kikagaku.co.jp/python-importhttps://blog.kikagaku.co.jp/python-import)\n",
        "\n",
        "基本的にアルゴリズムなどを自分で実装してもよいが，よく調べると自分が使いたい機能などがすでにモジュールなどになってることもあるので\n",
        "ネットでとりあえず調べてみると良い．"
      ]
    },
    {
      "cell_type": "markdown",
      "id": "fefc23cf-2a03-40e7-9084-fc40026541ef",
      "metadata": {
        "id": "fefc23cf-2a03-40e7-9084-fc40026541ef"
      },
      "source": [
        "### 数値計算で使用する主なライブラリ\n",
        "Pythonにはたくさんのライブラリがあるが，数値計算などで主に使用するライブラリは以下の通り．\n",
        "- NumPy（数値計算）\n",
        "- SciPy（数値計算，統計）\n",
        "- Matplotlib（可視化）\n",
        "\n",
        "それぞれのライブラリの使い方は今後のゼミの中で紹介する．"
      ]
    },
    {
      "cell_type": "markdown",
      "id": "49f7250b-0ee0-4fb9-8689-33de5027e0f0",
      "metadata": {
        "id": "49f7250b-0ee0-4fb9-8689-33de5027e0f0"
      },
      "source": [
        "### 練習6.1 ライブラリのインポート\n",
        "ライブラリ`numpy`と`scipy`，`matplotlib`，`polars`をそれぞれインポートしなさい．"
      ]
    },
    {
      "cell_type": "code",
      "execution_count": null,
      "id": "123aff49-feeb-4b5a-b201-fbfe20686f0e",
      "metadata": {
        "id": "123aff49-feeb-4b5a-b201-fbfe20686f0e"
      },
      "outputs": [],
      "source": []
    },
    {
      "cell_type": "markdown",
      "id": "f20e5d47-4714-4354-92c5-cd7ea80c4ce7",
      "metadata": {
        "id": "f20e5d47-4714-4354-92c5-cd7ea80c4ce7"
      },
      "source": [
        "## 7. Pythonプログラムの基本構造"
      ]
    },
    {
      "cell_type": "markdown",
      "id": "78693893-8792-4a5f-852d-c590ee1ffab2",
      "metadata": {
        "id": "78693893-8792-4a5f-852d-c590ee1ffab2"
      },
      "source": [
        "```python\n",
        "\"\"\"\n",
        "プログラムの基本構造\n",
        "\"\"\"\n",
        "# ライブラリのインポート\n",
        "import matplotlib.pyplot as plt\n",
        "\n",
        "# 関数定義\n",
        "def test_function(a, b):\n",
        "    return 2*a, 2*b\n",
        "\n",
        "# 変数定義\n",
        "x_0 = 0.0\n",
        "y_0 = 1.0\n",
        "repeat_n = 1000\n",
        "x_list = []\n",
        "y_list = []\n",
        "\n",
        "# 繰り返し処理\n",
        "for i in range(repeat_n):\n",
        "    x_list.append(x)\n",
        "    y_list.append(y)\n",
        "    x, y = test_function(x_0+i, y_0+i)\n",
        "\n",
        "# グラフの描画\n",
        "plt.figure()\n",
        "plt.plot(x_list, y_list)\n",
        "```"
      ]
    },
    {
      "cell_type": "markdown",
      "id": "e50cb7e8-6a52-4cc4-9156-46d1cfb6ee32",
      "metadata": {
        "id": "e50cb7e8-6a52-4cc4-9156-46d1cfb6ee32"
      },
      "source": [
        "### 練習7.1 上記のプログラムを実行するとどのような処理が行われるか．説明しなさい．"
      ]
    },
    {
      "cell_type": "markdown",
      "source": [],
      "metadata": {
        "id": "LUsBgB7JXP6u"
      },
      "id": "LUsBgB7JXP6u"
    },
    {
      "cell_type": "markdown",
      "id": "e89b1805-7994-42d2-8b4f-62bae8c73886",
      "metadata": {
        "tags": [],
        "id": "e89b1805-7994-42d2-8b4f-62bae8c73886"
      },
      "source": [
        "## **本日の課題**"
      ]
    },
    {
      "cell_type": "markdown",
      "id": "bafa6f79-ad12-4e56-a2c1-da70c61b8be7",
      "metadata": {
        "tags": [],
        "id": "bafa6f79-ad12-4e56-a2c1-da70c61b8be7"
      },
      "source": [
        "### 1. $x$に関する2次方程式 $ax^2 + bx + c = 0$ のすべての解を返す関数`solve_second_order_equation`を作成しなさい．\n",
        "\n",
        "### 2. 作成した`solve_second_order_equation`関数を実行しなさい．\n",
        "\n",
        "### 3. 2次関数 $y = ax^2 + bx + c$ をグラフで表示しなさい．"
      ]
    },
    {
      "cell_type": "code",
      "execution_count": null,
      "id": "db1d534e-a2e5-4381-b19b-a8465cde6ff6",
      "metadata": {
        "id": "db1d534e-a2e5-4381-b19b-a8465cde6ff6"
      },
      "outputs": [],
      "source": []
    },
    {
      "cell_type": "code",
      "execution_count": null,
      "id": "91253eba-9ffe-4b50-b44c-16b156c2fbbb",
      "metadata": {
        "id": "91253eba-9ffe-4b50-b44c-16b156c2fbbb"
      },
      "outputs": [],
      "source": []
    },
    {
      "cell_type": "code",
      "execution_count": null,
      "id": "14ff4af4-d0c2-4fb4-8339-aa04b4af8e25",
      "metadata": {
        "id": "14ff4af4-d0c2-4fb4-8339-aa04b4af8e25"
      },
      "outputs": [],
      "source": []
    }
  ],
  "metadata": {
    "colab": {
      "provenance": [],
      "include_colab_link": true
    },
    "kernelspec": {
      "display_name": "Python 3 (ipykernel)",
      "language": "python",
      "name": "python3"
    },
    "language_info": {
      "codemirror_mode": {
        "name": "ipython",
        "version": 3
      },
      "file_extension": ".py",
      "mimetype": "text/x-python",
      "name": "python",
      "nbconvert_exporter": "python",
      "pygments_lexer": "ipython3",
      "version": "3.7.16"
    }
  },
  "nbformat": 4,
  "nbformat_minor": 5
}