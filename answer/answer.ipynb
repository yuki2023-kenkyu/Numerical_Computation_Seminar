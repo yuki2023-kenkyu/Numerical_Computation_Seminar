{
  "nbformat": 4,
  "nbformat_minor": 0,
  "metadata": {
    "colab": {
      "provenance": [],
      "authorship_tag": "ABX9TyMkQK8wUzTzTduIzjPqHQ3p",
      "include_colab_link": true
    },
    "kernelspec": {
      "name": "python3",
      "display_name": "Python 3"
    },
    "language_info": {
      "name": "python"
    }
  },
  "cells": [
    {
      "cell_type": "markdown",
      "metadata": {
        "id": "view-in-github",
        "colab_type": "text"
      },
      "source": [
        "<a href=\"https://colab.research.google.com/github/yuki2023-kenkyu/Numerical_Computation_Seminar/blob/main/answer/answer.ipynb\" target=\"_parent\"><img src=\"https://colab.research.google.com/assets/colab-badge.svg\" alt=\"Open In Colab\"/></a>"
      ]
    },
    {
      "cell_type": "markdown",
      "metadata": {
        "id": "qw8_zdIlJQBw"
      },
      "source": [
        "##演習問題④\n",
        "___"
      ]
    },
    {
      "cell_type": "markdown",
      "metadata": {
        "id": "pVJZoiYqJRwi"
      },
      "source": [
        "次の微分方程式を無次元化して，Runge-Kutta法で数値計算せよ．\n",
        "\n",
        "$$\n",
        "\\begin{eqnarray}\n",
        "  M\\frac{dv}{dt} = Mg - \\beta v^2 \\quad (M = 1.0, g = 9.8, \\beta=1.5,v_0=0.10,t_0=0,t_{max}=10)\n",
        "\\end{eqnarray}\n",
        "$$"
      ]
    },
    {
      "cell_type": "markdown",
      "metadata": {
        "id": "cBPJsk6uJYQk"
      },
      "source": [
        ">解答例\n",
        "___"
      ]
    },
    {
      "cell_type": "markdown",
      "metadata": {
        "id": "bmP8IGsuG_ay"
      },
      "source": [
        "**ステップ１：無次元化を必要とする変数はどれなのか明らかにする．**\n",
        "\n",
        "　　　　　　$[v], [t]$を無次元化する．\n",
        "\n",
        "**ステップ２：問題の物理的な意味を考え，基準量の候補を検討する．**\n",
        "\n",
        "　　　　　　基準量の候補となるものは，[$v$]が終端速度[$V$]，[$t$]はわからないので[$\\tau$]とおく．"
      ]
    },
    {
      "cell_type": "markdown",
      "metadata": {
        "id": "4G-A0a6lFNFg"
      },
      "source": [
        "**ステップ３：運動方程式を変換する．**\n",
        "\n",
        "$$\n",
        "\\begin{eqnarray}\n",
        "  V &=& \\sqrt{\\frac{Mg}{\\beta}}\\\\\n",
        "  \\bar v &=& \\frac{v}{V}\\\\\n",
        "  \\bar t &=& \\frac{t}{\\tau}\\\\\n",
        "\\end{eqnarray}\n",
        "$$\n",
        "　　　　　　これらを踏まえて，運動方程式を変形すると，\n",
        "$$\n",
        "\\begin{eqnarray}\n",
        "  \\frac{V}{\\tau} \\frac{d\\bar v}{d\\bar t} &=& g-\\frac{\\beta V^2}{M}\\bar v^2\n",
        "\\end{eqnarray}\n",
        "\\tag{ⅰ}\n",
        "$$\n",
        "\n",
        "**ステップ４：上記1，2の結果を踏まえて基準量を設定する．**\n",
        "\n",
        "　　　　　　(ⅰ)式の右辺に$V=\\sqrt{\\frac{Mg}{\\beta}}$を代入すると，\n",
        "\n",
        "$$\n",
        "\\begin{eqnarray}\n",
        "  \\frac{V}{\\tau} \\frac{d\\bar v}{d\\bar t} &=& g-\\frac{\\beta}{M}\\cdot\\left(\\frac{Mg}{\\beta}\\right)\\bar v^2\\\\\n",
        "  &=& g(1-\\bar v^2)\n",
        "\\end{eqnarray}\n",
        "$$\n",
        "\n",
        "　　　　　　ここで，$\\frac{V}{\\tau}=g$として，\n",
        "\n",
        "$$\n",
        "\\begin{eqnarray}\n",
        "  \\therefore \\tau = \\frac{V}{g} = \\sqrt{\\frac{M}{\\beta g}}\n",
        "\\end{eqnarray}\n",
        "$$\n",
        "\n",
        "**ステップ５：方程式全体を無次元変数（と無次元パラメーター）で書かれた形に整理する．**\n",
        "\n",
        "　　　　　　無次元化された方程式は以下の通り．\n",
        "$$\n",
        "\\begin{eqnarray}\n",
        "  \\frac{d \\bar v}{d\\bar t} = 1-\\bar v^2\n",
        "\\end{eqnarray}\n",
        "$$\n",
        "___"
      ]
    },
    {
      "cell_type": "code",
      "metadata": {
        "colab": {
          "base_uri": "https://localhost:8080/",
          "height": 314
        },
        "id": "jDR8O9Ttk3u4",
        "outputId": "14ebe6ab-c8db-4726-e231-e8b0d82f5934"
      },
      "source": [
        "import numpy as np\n",
        "import matplotlib.pyplot as plt\n",
        "\n",
        "# 無次元化した微分方程式\n",
        "def f(t, v):\n",
        "  return 1 - v**2\n",
        "\n",
        "# 初期条件\n",
        "M = 1.0\n",
        "beta = 1.5\n",
        "g = 9.8\n",
        "t_0 = 0\n",
        "v_0 = 0.10\n",
        "V = (M*g/beta)**0.5\n",
        "bar_v_0 = v_0/V\n",
        "tmax = 10\n",
        "bar_t_0 = 0\n",
        "bar_t_max = tmax/(M/(beta*g))**0.5\n",
        "\n",
        "# 刻み幅の設定\n",
        "m = 2**10\n",
        "h = (bar_t_max - bar_t_0) /m\n",
        "\n",
        "# 変域の設定\n",
        "tpoints = np.arange(bar_t_0, bar_t_max, h)\n",
        "# 計算結果を保存する配列の用意\n",
        "vpoints = []\n",
        "\n",
        "# 初期値の代入\n",
        "t=bar_t_0\n",
        "v=bar_v_0\n",
        "# 数値積分\n",
        "for t in tpoints:\n",
        "    # 配列に要素を追加\n",
        "    vpoints.append(v)\n",
        "    # ルンゲ・クッタ法のアルゴリズム\n",
        "    k1 = h * f(t, v)\n",
        "    k2 = h * f(t+h/2, v+k1/2)\n",
        "    k3 = h * f(t+h/2, v+k2/2)\n",
        "    k4 = h * f(t+h, v+k3)\n",
        "    v += (k1+2*k2+2*k3+k4)/6\n",
        "\n",
        "# グラフ用の各種設定\n",
        "fig = plt.figure()\n",
        "# グラフの背景色の設定\n",
        "fig, ax = plt.subplots(facecolor = 'white')\n",
        "\n",
        "ax.plot(tpoints, vpoints, '-', label = 'Numerical', color = 'red')\n",
        "plt.xlabel('time')\n",
        "plt.ylabel('Velocity')\n",
        "plt.legend(loc = 'best')"
      ],
      "execution_count": null,
      "outputs": [
        {
          "output_type": "execute_result",
          "data": {
            "text/plain": [
              "<matplotlib.legend.Legend at 0x7f6cf3c578d0>"
            ]
          },
          "metadata": {},
          "execution_count": 16
        },
        {
          "output_type": "display_data",
          "data": {
            "text/plain": [
              "<Figure size 432x288 with 0 Axes>"
            ]
          },
          "metadata": {}
        },
        {
          "output_type": "display_data",
          "data": {
            "image/png": "[encoded data removed]",
            "text/plain": [
              "<Figure size 432x288 with 1 Axes>"
            ]
          },
          "metadata": {}
        }
      ]
    },
    {
      "cell_type": "code",
      "metadata": {
        "colab": {
          "base_uri": "https://localhost:8080/"
        },
        "id": "LgnQ3-72tFho",
        "outputId": "72e69dc5-9dc7-4297-f55b-267e1ad10331"
      },
      "source": [
        "V"
      ],
      "execution_count": null,
      "outputs": [
        {
          "output_type": "execute_result",
          "data": {
            "text/plain": [
              "2.5560386016907755"
            ]
          },
          "metadata": {},
          "execution_count": 12
        }
      ]
    }
  ]
}