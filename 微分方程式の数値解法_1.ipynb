{
  "nbformat": 4,
  "nbformat_minor": 0,
  "metadata": {
    "colab": {
      "provenance": [],
      "authorship_tag": "ABX9TyMDKOJZSG6VhuFSR6Ui6nwn",
      "include_colab_link": true
    },
    "kernelspec": {
      "name": "python3",
      "display_name": "Python 3"
    },
    "language_info": {
      "name": "python"
    }
  },
  "cells": [
    {
      "cell_type": "markdown",
      "metadata": {
        "id": "view-in-github",
        "colab_type": "text"
      },
      "source": [
        "<a href=\"https://colab.research.google.com/github/yuki2023-kenkyu/Numerical_Computation_Seminar/blob/main/%E5%BE%AE%E5%88%86%E6%96%B9%E7%A8%8B%E5%BC%8F%E3%81%AE%E6%95%B0%E5%80%A4%E8%A7%A3%E6%B3%95_1.ipynb\" target=\"_parent\"><img src=\"https://colab.research.google.com/assets/colab-badge.svg\" alt=\"Open In Colab\"/></a>"
      ]
    },
    {
      "cell_type": "markdown",
      "metadata": {
        "id": "v8o9DYweEePJ"
      },
      "source": [
        "# **微分方程式の数値解法①**\n",
        "___"
      ]
    },
    {
      "cell_type": "markdown",
      "metadata": {
        "id": "5w_Of6dRtvkF"
      },
      "source": [
        "　世の中には多くの微分方程式があるが，それらすべてが解析的に解くことができるとは限らない（むしろ解けないことが多い）．しかし，そういった場合でもコンピューターを利用することで近似的に解くことができる．それが「数値計算」である．\n",
        "　数値計算のアルゴリズムには，オイラー法やホイン法など，多くのものがある．今回はその中でも比較的計算精度が高い「ルンゲ・クッタ法」を用いて微分方程式を解いていく．"
      ]
    },
    {
      "cell_type": "markdown",
      "metadata": {
        "id": "v4NYC6iaF3zQ"
      },
      "source": [
        "## Runge-Kutta法\n",
        "___"
      ]
    },
    {
      "cell_type": "markdown",
      "metadata": {
        "id": "753CuEsfNRl4"
      },
      "source": [
        "　常微分方程式\n",
        "\n",
        "$$\n",
        "\\frac{dy}{dx} =  f(x,y)\n",
        "$$\n",
        "\n",
        "を初期条件\n",
        "\n",
        "$$\n",
        "x=x_0 のとき y=y_0\n",
        "$$\n",
        "\n",
        "のもとで数値的に解くためには，$x$ の刻みを $h$ として，$x_n=x_0+nh\\quad(n=1,2,\\cdots)$ に対する $y$ の値 $y_n$ を順々に求めていくのがふつうである．\n",
        "\n",
        "　（４次の）Runge-Kutta法では， $y_n$ まで求められたときその次の $y_{n+1}$ を求めるためには，次のように計算を進める．"
      ]
    },
    {
      "cell_type": "markdown",
      "metadata": {
        "id": "6z5IWM7VSmEl"
      },
      "source": [
        "**Runge-Kutta法のアルゴリズム:**\n",
        "\n",
        "　ルンゲ・クッタ法のアルゴリズムは次の式で表される．\n",
        "\n",
        "\n",
        "$$\n",
        "\\left\\{\n",
        "\\begin{eqnarray}\n",
        "    k_1&=& hf(x_n,y_n)\\\\\n",
        "    k_2&=& hf(x_n+h/2,y_n+k_1/2)\\\\\n",
        "    k_3&=& hf(x_n+h/2,y_n+k_2/2)\\\\\n",
        "    k_4&=& hf(x_n+h,y_n+k_3)\\\\\n",
        "    y_{n+1} &=& y_n+\\frac{1}{6}(k_1+2k_2+2k_3+k_4)\n",
        "\\end{eqnarray}\n",
        "\\right.\n",
        "$$\n",
        "\n",
        "\n",
        "　このとき，刻み $h$ は分割数 $m$ ，$x$ の初期条件 $x_0$，$x$ の上限値 $x_{max}$ を用いて\n",
        "\n",
        "$$\n",
        "h=(x_{max}-x_0)/m\n",
        "$$\n",
        "\n",
        "として求められる．"
      ]
    },
    {
      "cell_type": "markdown",
      "metadata": {
        "id": "prTKYx22Uh_-"
      },
      "source": []
    },
    {
      "cell_type": "markdown",
      "metadata": {
        "id": "1ixTcykHnJBU"
      },
      "source": [
        "### 例題１\n",
        "___\n",
        "\n",
        "　微分方程式\n",
        "\n",
        "$$\n",
        "\\frac{dy}{dx}=-2 \\frac{1+y}{1+x}\n",
        "$$\n",
        "\n",
        "を，初期条件「$x_0=0でy_0=7$」のもとで $x_{max}=1$ まで解く．\n",
        "\n",
        "\n",
        "　この数値計算結果と微分方程式の解析解$y(x)=8(1+x)^{-2}-1$をグラフ化して比較する．"
      ]
    },
    {
      "cell_type": "markdown",
      "metadata": {
        "id": "XuRGOb-5pgye"
      },
      "source": [
        ">プログラムの作成例\n",
        "___"
      ]
    },
    {
      "cell_type": "markdown",
      "metadata": {
        "id": "rFSiHwYQqdqU"
      },
      "source": [
        "```python\n",
        "# ライブラリのインポート\n",
        "import numpy as np\n",
        "import matplotlib.pyplot as plt\n",
        "\n",
        "# １階微分方程式を関数定義\n",
        "def f(x, y):\n",
        "    return -2 * (1+y)/(1+x)\n",
        "# 解析解\n",
        "def g(x1, y1):\n",
        "    return 8 / (1+x1)**(2) -1\n",
        "\n",
        "# 初期条件\n",
        "x0 = 0\n",
        "y0 = 7\n",
        "xmax = 100\n",
        "\n",
        "# 刻み幅の設定\n",
        "m = 1024\n",
        "h = (xmax - x0) /m\n",
        "\n",
        "# 変域の設定\n",
        "xpoints = np.arange(x0, xmax, h)\n",
        "x1points = np.arange(x0, xmax, h)\n",
        "# 計算結果を保存する空のリストの用意\n",
        "ypoints = []\n",
        "y1points = []\n",
        "\n",
        "# 初期値の代入\n",
        "x  = x0\n",
        "x1 = x0\n",
        "y  = y0\n",
        "y1 = y0\n",
        "# 数値積分\n",
        "for x in xpoints:\n",
        "    # リストに要素を追加\n",
        "    ypoints.append(y)\n",
        "    # ルンゲ・クッタ法のアルゴリズム\n",
        "    k1 = h * f(x, y)\n",
        "    k2 = h * f(x+h/2, y+k1/2)\n",
        "    k3 = h * f(x+h/2, y+k2/2)\n",
        "    k4 = h * f(x+h, y+k3)\n",
        "    y += (k1+2*k2+2*k3+k4)/6\n",
        "\n",
        "# 解析解\n",
        "for x1 in x1points:\n",
        "    y1points.append(y1)\n",
        "    y1 = g(x1, y1)\n",
        "\n",
        "# グラフ用の各種設定\n",
        "# グラフを描く領域を確保\n",
        "fig = plt.figure()\n",
        "# 領域の背景色の設定\n",
        "fig, ax = plt.subplots(facecolor = 'white')\n",
        "# 「ax」枠内にグラフを描画\n",
        "ax.plot(xpoints, ypoints, '--', label = 'Numerical Solution', color = 'Blue')\n",
        "ax.plot(x1points, y1points, '-', label = 'Analytical Solution', color = 'Pink')\n",
        "# グラフの軸ラベルの設定\n",
        "plt.xlabel('x')\n",
        "plt.ylabel('y')\n",
        "# 凡例の表示\n",
        "plt.legend(loc = 'best')\n",
        "```\n"
      ]
    },
    {
      "cell_type": "markdown",
      "metadata": {
        "id": "85V2yNEscYsY"
      },
      "source": [
        "## 参考：Runge-Kutta-Gill 法\n",
        "___"
      ]
    },
    {
      "cell_type": "markdown",
      "metadata": {
        "id": "Ai5Pi7Sgc559"
      },
      "source": [
        "　ルンゲ・クッタ・ギル法は，４次のルンゲ・クッタ法を改良したもの．計算機の記憶容量を少なくし，情報落ちの誤差が少なくなるように係数の組み合わせを工夫した方法．"
      ]
    },
    {
      "cell_type": "markdown",
      "metadata": {
        "id": "g_jzWDeIfbl9"
      },
      "source": [
        "**Runge-Kutta-Gill法のアルゴリズム**\n",
        "\n",
        "　ルンゲ・クッタ・ギル法のアルゴリズムは次の式で表される．\n",
        "\n",
        "$$\n",
        "\\left\\{\n",
        "\\begin{eqnarray}\n",
        "    k_1&=& hf(x_n,y_n)\\\\\n",
        "    k_2&=& hf(x_n+h/2,y_n+k_1/2)\\\\\n",
        "    k_3&=& hf(x_n+h/2,y_n+(\\sqrt{2}-1)k_1/2+(2-\\sqrt{2})k_2/2)\\\\\n",
        "    k_4&=& hf(x_n+h,y_n-\\sqrt{2}k_2/2+(2+\\sqrt{2})k_3/2)\\\\\n",
        "    y_{n+1} &=& y_n+\\frac{1}{6}(k_1+(2-\\sqrt{2})k_2+(2+\\sqrt{2})k_3+k_4)\n",
        "\\end{eqnarray}\n",
        "\\right.\n",
        "$$\n",
        "\n",
        "　ルンゲ・クッタ法と同様に，刻み $h$ は分割数 $m$ ，$x$ の初期条件 $x_0$，$x$ の上限値 $x_{max}$ を用いて\n",
        "\n",
        "$$\n",
        "h=(x_{max}-x_0)/m\n",
        "$$\n",
        "\n",
        "として求められる．\n",
        "\n",
        "参考URL：[数値解析　[2021 第９回目]](http://www.edu.cc.uec.ac.jp/~ta113003/htsecure/lecture/NumAnalysis/pdf/NumericalAnalysis09.pdf)\n",
        "2021/10/10 閲覧．"
      ]
    },
    {
      "cell_type": "markdown",
      "metadata": {
        "id": "9m-C8UZUj1AS"
      },
      "source": [
        "## 演習問題①\n",
        "___"
      ]
    },
    {
      "cell_type": "markdown",
      "metadata": {
        "id": "asLvNtXGwUF_"
      },
      "source": [
        "**[1]**\n",
        "\n",
        "次の(1)から(4)について，微分方程式をルンゲクッタ法を用いて数値的に解き，グラフ化せよ．\n",
        "\n",
        "また，数値解と解析解を比較せよ．"
      ]
    },
    {
      "cell_type": "markdown",
      "metadata": {
        "id": "2oEZ2hatxpxs"
      },
      "source": [
        "$$\n",
        "\\begin{eqnarray}\n",
        "    (1)&　\\frac{dN}{dt}&=&-\\lambda N　&(t_0=0,N_0=1,t_{max}=100000,\\lambda=\\frac{1}{10000}) \\\\\n",
        "    (2)&　\\frac{dy}{dx}&=&-(2\\sin{x}-1)(\\sin{x}+1)　&(x_0=0,y_0=1,x_{max}=2\\pi) \\\\\n",
        "    (3)&　xy\\frac{dy}{dx}&=&x^2+y^2　&(x_0=1,y_0=2,x_{max}=10000)\\\\\n",
        "    (4)&　M\\frac{dv}{dt}&=&Mg-kv　&(t_0=v_0=0,M=1,g=9.8,k=2,t_{max}=10)\\\\\n",
        "\\end{eqnarray}\n",
        "$$\n",
        "\n",
        "ヒント：「１階微分＝」の形に変形"
      ]
    },
    {
      "cell_type": "markdown",
      "metadata": {
        "id": "umTtQCN_uFHj"
      },
      "source": [
        "**[2]**\n",
        "\n",
        "[1]の(1)について，分割数$m$を変えると解の振る舞いにどのような影響があるか確認せよ．\n",
        "\n",
        "___"
      ]
    }
  ]
}