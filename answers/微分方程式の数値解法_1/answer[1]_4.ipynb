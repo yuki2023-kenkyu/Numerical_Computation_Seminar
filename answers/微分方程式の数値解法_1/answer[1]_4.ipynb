{
  "nbformat": 4,
  "nbformat_minor": 0,
  "metadata": {
    "colab": {
      "provenance": [],
      "authorship_tag": "ABX9TyO2f1kC6HJT5HBspl9yLueu",
      "include_colab_link": true
    },
    "kernelspec": {
      "name": "python3",
      "display_name": "Python 3"
    },
    "language_info": {
      "name": "python"
    }
  },
  "cells": [
    {
      "cell_type": "markdown",
      "metadata": {
        "id": "view-in-github",
        "colab_type": "text"
      },
      "source": [
        "<a href=\"https://colab.research.google.com/github/yuki2023-kenkyu/Numerical_Computation_Seminar/blob/main/answers/%E5%BE%AE%E5%88%86%E6%96%B9%E7%A8%8B%E5%BC%8F%E3%81%AE%E6%95%B0%E5%80%A4%E8%A7%A3%E6%B3%95_1/answer%5B1%5D_4.ipynb\" target=\"_parent\"><img src=\"https://colab.research.google.com/assets/colab-badge.svg\" alt=\"Open In Colab\"/></a>"
      ]
    },
    {
      "cell_type": "markdown",
      "metadata": {
        "id": "wnjSl4qFdctc"
      },
      "source": [
        "# 解析解の導出\n",
        "___"
      ]
    },
    {
      "cell_type": "markdown",
      "metadata": {
        "id": "8BfaeUDidcu8"
      },
      "source": [
        "ポイント：変数分離法を利用する．\n",
        "\n",
        "※空気抵抗を受ける物体の自由落下運動"
      ]
    },
    {
      "cell_type": "markdown",
      "metadata": {
        "id": "s-bgHTJbdcxQ"
      },
      "source": [
        "$$\n",
        "\\begin{eqnarray}\n",
        "  M\\;\\frac{dv}{dt} &=& Mg-kv\\quad i.e. \\quad \\frac{dv}{dt} = g-\\frac{k}{M} v\\\\\n",
        "\\end{eqnarray}\n",
        "$$\n",
        "\n",
        "変数分離して，両辺を積分すると\n",
        "\n",
        "$$\n",
        "\\begin{eqnarray}\n",
        "  \\int \\frac{dv}{g-\\frac{k}{M} v} &=& \\int dt\\\\\n",
        "  -\\frac{M}{k}\\;\\log{|g-\\frac{k}{M}v|} &=& t+c\\\\\n",
        "  \\log{|g-\\frac{k}{M}v|} &=& -\\frac{k}{M}(t+c)\\\\\n",
        "  g-\\frac{k}{M}v &=& \\pm e^{-\\frac{k}{M}(t+c)}=\\pm e^{-\\frac{k}{M}t}e^{-\\frac{k}{M}c}\\\\\n",
        "\\end{eqnarray}\n",
        "$$\n",
        "\n",
        "ここで，$\\pm e^{-\\frac{k}{M}(t+c)}=\\frac{k}{M}\\;C$ とおくと\n",
        "\n",
        "$$\n",
        "\\begin{eqnarray}\n",
        "  g-\\frac{k}{M}v &=& \\frac{k}{M}C\\cdot e^{-\\frac{k}{M}t}\\\\\n",
        "  \\frac{k}{M}v &=& g-\\frac{k}{M}C\\cdot e^{-\\frac{k}{M}t}\\\\\n",
        "  v &=& \\frac{Mg}{k} - C\\cdot e^{-\\frac{k}{M}t}\\\\\n",
        "\\end{eqnarray}\n",
        "$$\n",
        "初期条件「$t_0=0$ のとき $v_0=0$」より，$C=\\frac{Mg}{k}$\n",
        "\n",
        "\n",
        "したがって，求める解析解は\n",
        "\n",
        "$$\\therefore v = \\frac{Mg}{k}\\;(1 - e^{-\\frac{k}{M}t})$$"
      ]
    },
    {
      "cell_type": "markdown",
      "metadata": {
        "id": "DxuirdTgdc0v"
      },
      "source": [
        "# 演習問題 [1] (4) の解答\n",
        "___"
      ]
    },
    {
      "cell_type": "code",
      "metadata": {
        "id": "26_sz43TAH8V",
        "colab": {
          "base_uri": "https://localhost:8080/",
          "height": 484
        },
        "outputId": "7da4d911-6eab-4480-8227-fc7c80a9fbd8"
      },
      "source": [
        "import numpy as np\n",
        "import matplotlib.pyplot as plt\n",
        "\n",
        "# １階微分方程式\n",
        "def f(t, v):\n",
        "  return g - k/M * v\n",
        "# 解析解\n",
        "def a(t1, v1):\n",
        "  C = M*g /k\n",
        "  return C * (1-np.exp(-k/M *t1))\n",
        "\n",
        "# 初期条件\n",
        "M = 1\n",
        "k = 2\n",
        "g = 9.8\n",
        "t_0 = 0\n",
        "v_0 = 0\n",
        "tmax = 10\n",
        "\n",
        "# 刻み幅の設定\n",
        "m = 2**10\n",
        "h = (tmax - t_0) /m\n",
        "\n",
        "# 変域の設定\n",
        "tpoints = np.arange(t_0, tmax, h)\n",
        "t1points = np.arange(t_0, tmax, h)\n",
        "# 計算結果を保存する配列の用意\n",
        "vpoints = []\n",
        "v1points = []\n",
        "\n",
        "# 初期値の代入\n",
        "v = v_0\n",
        "v1 = v_0\n",
        "# 数値積分\n",
        "for t in tpoints:\n",
        "    # 配列に要素を追加\n",
        "    vpoints.append(v)\n",
        "    # ルンゲ・クッタ法のアルゴリズム\n",
        "    k1 = h * f(t, v)\n",
        "    k2 = h * f(t+h/2, v+k1/2)\n",
        "    k3 = h * f(t+h/2, v+k2/2)\n",
        "    k4 = h * f(t+h, v+k3)\n",
        "    v += (k1+2*k2+2*k3+k4)/6\n",
        "\n",
        "# 解析解\n",
        "for t1 in t1points:\n",
        "    v1points.append(v1)\n",
        "    v1 = a(t1, v1)\n",
        "\n",
        "# グラフ用の各種設定\n",
        "fig = plt.figure()\n",
        "# グラフの背景色の設定\n",
        "fig, ax = plt.subplots(facecolor = 'white')\n",
        "\n",
        "ax.plot(tpoints, vpoints, '--', label = 'Numerical Solution', color = 'red')\n",
        "ax.plot(t1points, v1points, '-.', label = 'Analytical Solution', color = 'blue')\n",
        "plt.xlabel('time')\n",
        "plt.ylabel('Velocity')\n",
        "plt.legend(loc = 'best')"
      ],
      "execution_count": null,
      "outputs": [
        {
          "output_type": "execute_result",
          "data": {
            "text/plain": [
              "<matplotlib.legend.Legend at 0x79a78c1a1de0>"
            ]
          },
          "metadata": {},
          "execution_count": 2
        },
        {
          "output_type": "display_data",
          "data": {
            "text/plain": [
              "<Figure size 640x480 with 0 Axes>"
            ]
          },
          "metadata": {}
        },
        {
          "output_type": "display_data",
          "data": {
            "text/plain": [
              "<Figure size 640x480 with 1 Axes>"
            ],
            "image/png": "[encoded data removed]"
          },
          "metadata": {}
        }
      ]
    },
    {
      "cell_type": "code",
      "metadata": {
        "id": "X28OvGiJYdAG"
      },
      "source": [],
      "execution_count": null,
      "outputs": []
    }
  ]
}