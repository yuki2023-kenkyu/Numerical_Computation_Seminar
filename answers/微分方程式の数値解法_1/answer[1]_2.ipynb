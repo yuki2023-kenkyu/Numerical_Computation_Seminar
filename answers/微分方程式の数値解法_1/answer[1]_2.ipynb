{
  "nbformat": 4,
  "nbformat_minor": 0,
  "metadata": {
    "colab": {
      "provenance": [],
      "authorship_tag": "ABX9TyNi6OD9XFmDEC34ghL9ybDx",
      "include_colab_link": true
    },
    "kernelspec": {
      "name": "python3",
      "display_name": "Python 3"
    },
    "language_info": {
      "name": "python"
    }
  },
  "cells": [
    {
      "cell_type": "markdown",
      "metadata": {
        "id": "view-in-github",
        "colab_type": "text"
      },
      "source": [
        "<a href=\"https://colab.research.google.com/github/yuki2023-kenkyu/Numerical_Computation_Seminar/blob/main/answers/%E5%BE%AE%E5%88%86%E6%96%B9%E7%A8%8B%E5%BC%8F%E3%81%AE%E6%95%B0%E5%80%A4%E8%A7%A3%E6%B3%95_1/answer%5B1%5D_2.ipynb\" target=\"_parent\"><img src=\"https://colab.research.google.com/assets/colab-badge.svg\" alt=\"Open In Colab\"/></a>"
      ]
    },
    {
      "cell_type": "markdown",
      "metadata": {
        "id": "5no30rH012VP"
      },
      "source": [
        "# 解析解の導出\n",
        "___"
      ]
    },
    {
      "cell_type": "markdown",
      "metadata": {
        "id": "qU4uxMSGDb9j"
      },
      "source": [
        "ポイント：半角の定理や2倍角の定理などを用いて式変形する．"
      ]
    },
    {
      "cell_type": "markdown",
      "metadata": {
        "id": "QJCV6G_r13Tt"
      },
      "source": [
        "$$\n",
        "\\begin{eqnarray}\n",
        "  \\frac{dy}{dx} &=& -2\\sin^2{x}-\\sin{x}+1\\\\\n",
        "  &=& -2\\;\\frac{1-\\cos{2x}}{2}-\\sin x+1\\\\\n",
        "  &=& \\cos2x-\\sin x\\\\\n",
        "\\end{eqnarray}\n",
        "$$\n",
        "\n",
        "\n",
        "よって，両辺を $x$ で積分すると\n",
        "\n",
        "\n",
        "$$\n",
        "\\begin{eqnarray}\n",
        "  \\int dy &=& \\int \\cos 2x \\;dx-\\int\\sin x \\;dx\\\\\n",
        "  y &=& \\frac{1}{2}\\;\\sin 2x + \\cos x +C \\\\\n",
        "  &=& \\sin x \\cos x + \\cos x +C \\\\\n",
        "  &=& (1+\\sin x)\\cos x +C\n",
        "\\end{eqnarray}\n",
        "$$\n",
        "\n",
        "\n",
        "ここで，初期条件 $x_0=0$ のとき $y_0=1$ より，$C=0$\n",
        "\n",
        "\n",
        "\\begin{eqnarray}\n",
        "  \\therefore y = (1+\\sin x)\\cos x \\\\\n",
        "\\end{eqnarray}"
      ]
    },
    {
      "cell_type": "markdown",
      "metadata": {
        "id": "C4Wi8U6c2Ndz"
      },
      "source": [
        "# 演習問題 [1] (2) の解答\n",
        "___"
      ]
    },
    {
      "cell_type": "code",
      "metadata": {
        "id": "VYTWTogmBGCY",
        "colab": {
          "base_uri": "https://localhost:8080/",
          "height": 315
        },
        "outputId": "7cebd583-c83c-4bf8-cd9c-cc3a4cbbff7b"
      },
      "source": [
        "import numpy as np\n",
        "import matplotlib.pyplot as plt\n",
        "\n",
        "# １階微分方程式\n",
        "def f(x, y):\n",
        "    return -(2*np.sin(x)-1)*(np.sin(x)+1)\n",
        "# 解析解\n",
        "def g(x1, y1):\n",
        "    return (1+np.sin(x1))*np.cos(x1)\n",
        "\n",
        "# 初期条件\n",
        "x0 = 0\n",
        "y0 = 1\n",
        "xmax = 2*np.pi\n",
        "\n",
        "# 刻み幅の設定\n",
        "m = 1024\n",
        "h = (xmax - x0) /m\n",
        "\n",
        "# 変域の設定\n",
        "xpoints = np.arange(x0, xmax, h)\n",
        "x1points = np.arange(x0, xmax, h)\n",
        "# 計算結果を保存する配列の用意\n",
        "ypoints = []\n",
        "y1points = []\n",
        "\n",
        "# 初期値の代入\n",
        "x=x1=x0\n",
        "y=y1=y0\n",
        "# 数値積分\n",
        "for x in xpoints:\n",
        "    # 配列に要素を追加\n",
        "    ypoints.append(y)\n",
        "    # ルンゲ・クッタ法のアルゴリズム\n",
        "    k1 = h * f(x, y)\n",
        "    k2 = h * f(x+h/2, y+k1/2)\n",
        "    k3 = h * f(x+h/2, y+k2/2)\n",
        "    k4 = h * f(x+h, y+k3)\n",
        "    y += (k1+2*k2+2*k3+k4)/6\n",
        "\n",
        "# 解析解\n",
        "for x1 in x1points:\n",
        "    y1points.append(y1)\n",
        "    y1 = g(x1, y1)\n",
        "\n",
        "# グラフ用の各種設定\n",
        "fig = plt.figure()\n",
        "# グラフの背景色の設定\n",
        "fig, ax = plt.subplots(facecolor = 'white')\n",
        "\n",
        "ax.plot(xpoints, ypoints, '--', label = 'Numerical Solution', color = 'Blue')\n",
        "ax.plot(x1points, y1points, '-', label = 'Analytical Solution', color = 'Pink')\n",
        "plt.xlabel('x')\n",
        "plt.ylabel('y')\n",
        "plt.legend(loc = 'best')"
      ],
      "execution_count": null,
      "outputs": [
        {
          "output_type": "execute_result",
          "data": {
            "text/plain": [
              "<matplotlib.legend.Legend at 0x7f0c9c217310>"
            ]
          },
          "metadata": {},
          "execution_count": 1
        },
        {
          "output_type": "display_data",
          "data": {
            "text/plain": [
              "<Figure size 432x288 with 0 Axes>"
            ]
          },
          "metadata": {}
        },
        {
          "output_type": "display_data",
          "data": {
            "image/png": "[encoded data removed]",
            "text/plain": [
              "<Figure size 432x288 with 1 Axes>"
            ]
          },
          "metadata": {}
        }
      ]
    }
  ]
}