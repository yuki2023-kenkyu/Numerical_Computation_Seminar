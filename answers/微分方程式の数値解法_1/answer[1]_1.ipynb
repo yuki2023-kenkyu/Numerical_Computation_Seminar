{
  "nbformat": 4,
  "nbformat_minor": 0,
  "metadata": {
    "colab": {
      "provenance": [],
      "authorship_tag": "ABX9TyNlDHxWg17db6zcelVFAxEc",
      "include_colab_link": true
    },
    "kernelspec": {
      "name": "python3",
      "display_name": "Python 3"
    },
    "language_info": {
      "name": "python"
    }
  },
  "cells": [
    {
      "cell_type": "markdown",
      "metadata": {
        "id": "view-in-github",
        "colab_type": "text"
      },
      "source": [
        "<a href=\"https://colab.research.google.com/github/yuki2023-kenkyu/Numerical_Computation_Seminar/blob/main/answers/%E5%BE%AE%E5%88%86%E6%96%B9%E7%A8%8B%E5%BC%8F%E3%81%AE%E6%95%B0%E5%80%A4%E8%A7%A3%E6%B3%95_1/answer%5B1%5D_1.ipynb\" target=\"_parent\"><img src=\"https://colab.research.google.com/assets/colab-badge.svg\" alt=\"Open In Colab\"/></a>"
      ]
    },
    {
      "cell_type": "markdown",
      "metadata": {
        "id": "EbCpCJH1qknq"
      },
      "source": [
        "# 解析解の導出\n",
        "___\n",
        "\n",
        "ポイント：変数分離法を用いて解析解を導く．(本当は詳細な説明も書こうかと思ったのですが，今回は割愛します．)"
      ]
    },
    {
      "cell_type": "markdown",
      "metadata": {
        "id": "XZFY6q0lqmo2"
      },
      "source": [
        "$$\n",
        "\\begin{eqnarray}\n",
        "  \\frac{dN}{dt}&=&-\\lambda N \\\\\n",
        "  \\frac{dN}{N}&=&-\\lambda dt \\\\\n",
        "  \\int \\frac{dN}{N}&=&-\\lambda\\int dt\\quad i.e., \\quad \\log{|N|}=-\\lambda t+c\\\\\n",
        "  N&=&\\pm e^{-\\lambda t+c}=\\pm e^c e^{-\\lambda t}\n",
        "  =Ce^{-\\lambda t}\\quad&(\\because C=\\pm e^c)\\\\\n",
        "  \\therefore N&=&N_0e^{-\\lambda t}\\quad&(\\because N(t_0=0)=N_0)\\\\\n",
        "\\end{eqnarray}\n",
        "$$"
      ]
    },
    {
      "cell_type": "markdown",
      "metadata": {
        "id": "gOmiNG-Yq-Bf"
      },
      "source": [
        "# 演習問題 [1] (1)の解答\n",
        "___"
      ]
    },
    {
      "cell_type": "code",
      "metadata": {
        "colab": {
          "base_uri": "https://localhost:8080/",
          "height": 282
        },
        "id": "nK5TgZqVqxDO",
        "outputId": "d29d7fa9-fe38-40da-81e3-357efb24c060"
      },
      "source": [
        "import numpy as np\n",
        "import matplotlib.pyplot as plt\n",
        "\n",
        "# １階微分方程式\n",
        "def f(t, N):\n",
        "  return -lam * N\n",
        "# 解析解\n",
        "def g(t1, N1):\n",
        "  return N_0 * np.exp(-lam*t1)\n",
        "\n",
        "# 初期条件\n",
        "lam = 1/10000\n",
        "t_0 = 0\n",
        "N_0 = 1\n",
        "tmax = 100000\n",
        "\n",
        "# 刻み幅の設定\n",
        "m = 2**10\n",
        "h = (tmax - t_0) /m\n",
        "\n",
        "# 変域の設定\n",
        "tpoints = np.arange(t_0, tmax, h)\n",
        "t1points = np.arange(t_0, tmax, h)\n",
        "# 計算結果を保存する配列の用意\n",
        "Npoints = []\n",
        "N1points = []\n",
        "\n",
        "# 初期値の代入\n",
        "t=t1=t_0\n",
        "N=N1=N_0\n",
        "# 数値積分\n",
        "for t in tpoints:\n",
        "    # 配列に要素を追加\n",
        "    Npoints.append(N)\n",
        "    # ルンゲ・クッタ法のアルゴリズム\n",
        "    k1 = h * f(t, N)\n",
        "    k2 = h * f(t+h/2, N+k1/2)\n",
        "    k3 = h * f(t+h/2, N+k2/2)\n",
        "    k4 = h * f(t+h, N+k3)\n",
        "    N += (k1+2*k2+2*k3+k4)/6\n",
        "\n",
        "# 解析解\n",
        "for t1 in t1points:\n",
        "    N1points.append(N1)\n",
        "    N1 = g(t1, N1)\n",
        "\n",
        "# グラフ用の各種設定\n",
        "fig = plt.figure()\n",
        "# グラフの背景色の設定\n",
        "fig, ax = plt.subplots(facecolor = 'white')\n",
        "\n",
        "ax.plot(tpoints, Npoints, '--', label = 'Numerical Solution', color = 'red')\n",
        "ax.plot(t1points, N1points, '-', label = 'Analytical Solution', color = 'pink')\n",
        "plt.xlabel('time')\n",
        "plt.ylabel('Residual rate')\n",
        "plt.legend(loc = 'best')"
      ],
      "execution_count": null,
      "outputs": [
        {
          "output_type": "execute_result",
          "data": {
            "text/plain": [
              "<matplotlib.legend.Legend at 0x7ff01e1b36d0>"
            ]
          },
          "metadata": {},
          "execution_count": 1
        },
        {
          "output_type": "display_data",
          "data": {
            "text/plain": [
              "<Figure size 432x288 with 0 Axes>"
            ]
          },
          "metadata": {}
        },
        {
          "output_type": "display_data",
          "data": {
            "text/plain": [
              "<Figure size 432x288 with 1 Axes>"
            ],
            "image/png": "[encoded data removed]"
          },
          "metadata": {}
        }
      ]
    }
  ]
}