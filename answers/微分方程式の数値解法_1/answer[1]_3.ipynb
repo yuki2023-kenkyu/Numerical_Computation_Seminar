{
  "nbformat": 4,
  "nbformat_minor": 0,
  "metadata": {
    "colab": {
      "provenance": [],
      "authorship_tag": "ABX9TyNXhfNzZXFuOc9v3BKHffhJ",
      "include_colab_link": true
    },
    "kernelspec": {
      "name": "python3",
      "display_name": "Python 3"
    },
    "language_info": {
      "name": "python"
    }
  },
  "cells": [
    {
      "cell_type": "markdown",
      "metadata": {
        "id": "view-in-github",
        "colab_type": "text"
      },
      "source": [
        "<a href=\"https://colab.research.google.com/github/yuki2023-kenkyu/Numerical_Computation_Seminar/blob/main/answers/%E5%BE%AE%E5%88%86%E6%96%B9%E7%A8%8B%E5%BC%8F%E3%81%AE%E6%95%B0%E5%80%A4%E8%A7%A3%E6%B3%95_1/answer%5B1%5D_3.ipynb\" target=\"_parent\"><img src=\"https://colab.research.google.com/assets/colab-badge.svg\" alt=\"Open In Colab\"/></a>"
      ]
    },
    {
      "cell_type": "markdown",
      "metadata": {
        "id": "eiGENts-Sl4g"
      },
      "source": [
        "# 解析解の導出\n",
        "___"
      ]
    },
    {
      "cell_type": "markdown",
      "metadata": {
        "id": "Yj2fFLz9SoVY"
      },
      "source": [
        "ポイント：同次方程式 $f(x,y)=f(\\frac{y}{x})$ の解法を用いる．"
      ]
    },
    {
      "cell_type": "markdown",
      "metadata": {
        "id": "mDuYpz9BSokQ"
      },
      "source": [
        "$$\n",
        "\\begin{eqnarray}\n",
        "  \\frac{dy}{dx} = \\frac{x^2+y^2}{xy} = \\frac{(x^2+y^2)\\cdot\\frac{1}{x^2}}{xy\\cdot\\frac{1}{x^2}} = \\frac{1+({\\frac{y}{x})}^2}{\\frac{y}{x}}\\\\\n",
        "\\end{eqnarray}\n",
        "$$\n",
        "\n",
        "\n",
        "$\\frac{y}{x}=u$とおくと，\n",
        "\n",
        "\n",
        "$$\n",
        "\\begin{eqnarray}\n",
        "  \\frac{dy}{dx}=\\frac{1+u^2}{u} \\tag{ⅰ}\\\\\n",
        "\\end{eqnarray}\n",
        "$$\n",
        "\n",
        "また，$u$ は $x$ の関数で，$u=\\frac{y}{x}\\quad i.e.\\quad y=xu$ より，この式の両辺を $x$ で微分して\n",
        "\n",
        "$$\n",
        "\\begin{eqnarray}\n",
        "  \\frac{dy}{dx}&=&\\frac{d}{dx}(xu)=\\frac{d}{dx}x\\cdot u+x\\cdot \\frac{d}{dx}u\\\\\n",
        "&=&u+x\\cdot\\frac{du}{dx} \\tag{ⅱ}\n",
        "\\end{eqnarray}\n",
        "$$\n",
        "\n",
        "(ⅰ)，(ⅱ)式より\n",
        "\n",
        "$$u+x\\cdot\\frac{du}{dx}=\\frac{1+u^2}{u}\\quad i.e. \\quad x\\cdot \\frac{du}{dx} = \\frac{1}{u}$$\n",
        "\n",
        "これより，変数分離して\n",
        "\n",
        "$$\n",
        "\\begin{eqnarray}\n",
        "  \\int u \\:du &=& \\int \\frac{1}{x} \\;dx\\\\\n",
        "  \\frac{1}{2}\\;u^2 &=& \\log |x| +C\n",
        "\\end{eqnarray}\n",
        "$$\n",
        "\n",
        "$u=\\frac{y}{x}$，$C=2\\quad(\\because x_0=1,y_0=2)$ を代入して\n",
        "\n",
        "$$\\therefore y = \\sqrt{2x^2(\\log |x|+2)}\\quad(x \\geq 1)$$"
      ]
    },
    {
      "cell_type": "markdown",
      "source": [],
      "metadata": {
        "id": "qKlG3TrUhsFB"
      }
    },
    {
      "cell_type": "markdown",
      "metadata": {
        "id": "EImkmzxUSpVY"
      },
      "source": [
        "# 演習問題 [1] (3) の解答\n",
        "___"
      ]
    },
    {
      "cell_type": "code",
      "metadata": {
        "id": "26_sz43TAH8V",
        "colab": {
          "base_uri": "https://localhost:8080/",
          "height": 317
        },
        "outputId": "a4c9e0ba-bbd5-47b9-cbfd-d43efcbbc7f1"
      },
      "source": [
        "import numpy as np\n",
        "import matplotlib.pyplot as plt\n",
        "\n",
        "# １階微分方程式\n",
        "def f(x, y):\n",
        "  return (x**2+y**2)/(x*y)\n",
        "# 解析解\n",
        "def g(x1, y1):\n",
        "  A = 2\n",
        "  return np.sqrt(2*x1**2*(np.log(np.abs(x1))+A))\n",
        "\n",
        "# 初期条件\n",
        "x0 = 1\n",
        "y0 = 2\n",
        "xmax = 10000\n",
        "\n",
        "# 刻み幅の設定\n",
        "m = 2**16\n",
        "h = (xmax - x0) /m\n",
        "\n",
        "# 変域の設定\n",
        "xpoints = np.arange(x0, xmax, h)\n",
        "x1points = np.arange(x0, xmax, h)\n",
        "# 計算結果を保存する配列の用意\n",
        "ypoints = []\n",
        "y1points = []\n",
        "\n",
        "# 初期値の代入\n",
        "x=x1=x0\n",
        "y=y1=y0\n",
        "# 数値積分\n",
        "for x in xpoints:\n",
        "    # 配列に要素を追加\n",
        "    ypoints.append(y)\n",
        "    # ルンゲ・クッタ法のアルゴリズム\n",
        "    k1 = h * f(x, y)\n",
        "    k2 = h * f(x+h/2, y+k1/2)\n",
        "    k3 = h * f(x+h/2, y+k2/2)\n",
        "    k4 = h * f(x+h, y+k3)\n",
        "    y += (k1+2*k2+2*k3+k4)/6\n",
        "\n",
        "# 解析解\n",
        "for x1 in x1points:\n",
        "    y1points.append(y1)\n",
        "    y1 = g(x1, y1)\n",
        "\n",
        "# グラフ用の各種設定\n",
        "fig = plt.figure()\n",
        "# グラフの背景色の設定\n",
        "fig, ax = plt.subplots(facecolor = 'white')\n",
        "\n",
        "ax.plot(xpoints, ypoints, '--', label = 'Numerical Solution', color = 'Blue')\n",
        "ax.plot(x1points, y1points, '-', label = 'Analytical Solution', color = 'Pink')\n",
        "plt.xlabel('x')\n",
        "plt.ylabel('y')\n",
        "# 軸を対数軸に設定\n",
        "ax.set_xscale(\"log\")\n",
        "#ax.set_yscale(\"log\")\n",
        "plt.legend(loc = 'best')"
      ],
      "execution_count": null,
      "outputs": [
        {
          "output_type": "execute_result",
          "data": {
            "text/plain": [
              "<matplotlib.legend.Legend at 0x7fdb8cf94ad0>"
            ]
          },
          "metadata": {},
          "execution_count": 1
        },
        {
          "output_type": "display_data",
          "data": {
            "text/plain": [
              "<Figure size 432x288 with 0 Axes>"
            ]
          },
          "metadata": {}
        },
        {
          "output_type": "display_data",
          "data": {
            "image/png": "[encoded data removed]",
            "text/plain": [
              "<Figure size 432x288 with 1 Axes>"
            ]
          },
          "metadata": {}
        }
      ]
    }
  ]
}