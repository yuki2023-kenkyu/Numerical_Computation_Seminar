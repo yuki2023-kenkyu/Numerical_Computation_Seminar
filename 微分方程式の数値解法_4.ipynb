{
  "nbformat": 4,
  "nbformat_minor": 0,
  "metadata": {
    "colab": {
      "provenance": [],
      "authorship_tag": "ABX9TyODYOqdh5AHFXLAlKUZHtkU",
      "include_colab_link": true
    },
    "kernelspec": {
      "name": "python3",
      "display_name": "Python 3"
    },
    "language_info": {
      "name": "python"
    }
  },
  "cells": [
    {
      "cell_type": "markdown",
      "metadata": {
        "id": "view-in-github",
        "colab_type": "text"
      },
      "source": [
        "<a href=\"https://colab.research.google.com/github/yuki2023-kenkyu/Numerical_Computation_Seminar/blob/main/%E5%BE%AE%E5%88%86%E6%96%B9%E7%A8%8B%E5%BC%8F%E3%81%AE%E6%95%B0%E5%80%A4%E8%A7%A3%E6%B3%95_4.ipynb\" target=\"_parent\"><img src=\"https://colab.research.google.com/assets/colab-badge.svg\" alt=\"Open In Colab\"/></a>"
      ]
    },
    {
      "cell_type": "markdown",
      "metadata": {
        "id": "Eh89wGbq463i"
      },
      "source": [
        "# 微分方程式の数値解法④\n",
        "___"
      ]
    },
    {
      "cell_type": "markdown",
      "metadata": {
        "id": "qPPZyFvdX9Ra"
      },
      "source": [
        "　数値計算を進めていくと，場合によって値が大きくなりすぎてそれ以上計算をすることができなくなるオーバーフローや，情報落ちなどのトラブルに遭遇する場合がある．それを未然に防ぐ工夫の一つに，方程式の**無次元化**がある．今回は無次元化の手法について具体例を踏まえて学んでいく．"
      ]
    },
    {
      "cell_type": "markdown",
      "metadata": {
        "id": "WYu_xzX_5I2Y"
      },
      "source": [
        "## 物理量と次元\n",
        "___"
      ]
    },
    {
      "cell_type": "markdown",
      "metadata": {
        "id": "IqPrDLMesmzm"
      },
      "source": [
        "　物理量は，基本的に次の式で表される．\n",
        "\n",
        "$$\n",
        "\\begin{eqnarray}\n",
        "  [物理量]=数\\times〔単位〕\n",
        "\\end{eqnarray}\n",
        "$$\n",
        "\n",
        "　物理量は，以下の基本量の積で表される次元を持つ．"
      ]
    },
    {
      "cell_type": "markdown",
      "metadata": {
        "id": "zTGAE59kZXxi"
      },
      "source": [
        "|基本量      |長 さ|質 量|時 間|電 流|温 度|物質量|光度|\n",
        "|:----------:|:---:|:---:|:---:|:---:|:---:|:----:|:--:|\n",
        "|**次元**   |L    |M    |T    |I    |Θ   |N     |J   |"
      ]
    },
    {
      "cell_type": "markdown",
      "metadata": {
        "id": "wyLSaTCjSfUr"
      },
      "source": [
        "※今後，物理量の次元は[物理量]と表記する．"
      ]
    },
    {
      "cell_type": "markdown",
      "metadata": {
        "id": "RIdE9vHPTAvC"
      },
      "source": [
        ">例　力$F$の次元\n",
        "\n",
        "　物理量の次元は，方程式から求められる．\n",
        "\n",
        "　運動方程式\n",
        "\n",
        "$$\n",
        "\\begin{eqnarray}\n",
        "  m \\frac{d^2x}{dt^2} = F\n",
        "\\end{eqnarray}\n",
        "$$\n",
        "\n",
        "の次元解析を行うと，[$m$]=  Mと[$x$]=  Lから，\n",
        "\n",
        "$$\n",
        "\\begin{eqnarray}\n",
        "  \\left[\\frac{d^2x}{dt^2}\\right]=[x][t]^{-2}&=&LT^{-2}\\\\\n",
        "  [F]=[m]\\cdot\\left[ \\frac{d^2x}{dt^2}\\right]&=&MLT^{-2}\n",
        "\\end{eqnarray}\n",
        "$$\n",
        "\n",
        "であることがわかる．"
      ]
    },
    {
      "cell_type": "markdown",
      "metadata": {
        "id": "Z7QwMruBZLnB"
      },
      "source": [
        "## 無次元化の手順\n",
        "___"
      ]
    },
    {
      "cell_type": "markdown",
      "metadata": {
        "id": "jRXTXI4leRXT"
      },
      "source": [
        "　まず，無次元化とは「理論に出てくる変数を，全て無次元量に変数変換すること」，すなわち，次元を有する物理量から，次元のない普通の数へと変換することである．無次元化は次の式のように考える．\n",
        "\n"
      ]
    },
    {
      "cell_type": "markdown",
      "metadata": {
        "id": "WlIExza9d_6d"
      },
      "source": [
        "$$\n",
        "\\begin{eqnarray}\n",
        "  無次元量（数） = \\frac{[物理量]}{基準となる定数}\n",
        "\\end{eqnarray}\n",
        "\\tag{1}\n",
        "$$"
      ]
    },
    {
      "cell_type": "markdown",
      "metadata": {
        "id": "WfJJdwFEbWLs"
      },
      "source": [
        "　無次元化の手順は以下の通り．\n",
        "\n",
        "1.   無次元化を必要とする変数はどれなのか明らかにする．\n",
        "2.   問題の物理的な意味を考え，基準量の候補を検討する．\n",
        "3.   式(1)を用いて運動方程式を変換する．\n",
        "4.   上記1，2の結果を踏まえて基準量を設定する．\n",
        "5.   方程式全体を無次元変数（と無次元パラメーター）で書かれた形に整理する．\n"
      ]
    },
    {
      "cell_type": "markdown",
      "metadata": {
        "id": "tzlFT3u8iMCm"
      },
      "source": [
        ">例題６　単振り子\n"
      ]
    },
    {
      "cell_type": "markdown",
      "metadata": {
        "id": "jJckc4Adih7N"
      },
      "source": [
        "　長さ$l$の棒の先に繋がれた，質量$m$の物体の運動について考える．\n",
        "\n",
        "　運動方程式は次の通り．\n",
        "\n",
        "$$\n",
        "\\begin{eqnarray}\n",
        "  m\\frac{d^2}{dt^2}(l\\theta)=-mg\\sin{\\theta}\\quad i.e., \\quad l\\frac{d^2\\theta}{dt^2}=-g\\sin{\\theta}\n",
        "\\end{eqnarray}\n",
        "$$"
      ]
    },
    {
      "cell_type": "markdown",
      "metadata": {
        "id": "WpOegLodZBw3"
      },
      "source": [
        "**ステップ１：無次元化を必要とする変数はどれなのか明らかにする．**\n",
        "\n",
        "　　　　　　方程式に現れる物理量の次元は，L，Tであるので，この２つを用いて，$[l], [t]$を無次元化する．\n",
        "\n",
        "**ステップ２：問題の物理的な意味を考え，基準量の候補を検討する．**\n",
        "\n",
        "　　　　　　次元L，Tを持つ物理量で，基準量となるものはそれぞれ以下の通り．\n",
        "\n",
        "| 次元 | L(長さ) | T(時間)|\n",
        "|:----:|:-------:|:------:|\n",
        "|基準量| [ $l$ ] |[$\\tau$]|\n",
        "\n",
        "　　　　　　※候補がいくつかあり，基準量が定まらないTは$\\tau$とおいている．\n",
        "\n",
        "**ステップ３：式(1)を用いて運動方程式を変換する．**\n",
        "\n",
        "　　　　　　式(1)に代入すると\n",
        "$$\n",
        "\\begin{eqnarray}\n",
        "  \\bar l &=& \\frac{l}{l} = 1\\\\\n",
        "  \\bar t &=& \\frac{t}{\\tau}\n",
        "\\end{eqnarray}\n",
        "$$\n",
        "\n",
        "　　　　　　これらを運動方程式に代入して，\n",
        "\n",
        "$$\n",
        "\\begin{eqnarray}\n",
        "  &(\\bar ll)\\frac{1}{\\tau^2}\\frac{d^2}{d\\bar t^2}\\theta = -g\\sin{\\theta}\\quad i.e., \\quad \\bar l \\frac{1}{\\tau^2}\\frac{d^2}{d\\bar t^2}\\theta = -\\frac{g}{l}\\sin{\\theta}\\tag{2}\\\\\n",
        "  &\\because \\frac{d}{dt}\\theta = \\frac{d\\bar t}{dt} \\frac{d}{d\\bar t}\\theta = \\frac{1}{\\tau}\\frac{d}{d\\bar t}\\theta\n",
        "\\end{eqnarray}\n",
        "$$\n",
        "\n",
        "**ステップ４：上記1，2の結果を踏まえて基準量を設定する．**\n",
        "\n",
        "　　　　　　式(2)より，基準量$\\tau$は\n",
        "$$\n",
        "\\begin{eqnarray}\n",
        "  \\frac{1}{\\tau^2} = \\frac{g}{l} \\quad i.e., \\quad \\tau = \\sqrt{\\frac{l}{g}}\\\\\n",
        "\\end{eqnarray}\n",
        "\\tag{3}\n",
        "$$\n",
        "\n",
        "　　　　　とすればよい．\n",
        "\n",
        "**ステップ５：方程式全体を無次元変数（と無次元パラメーター）で書かれた形に整理する．**\n",
        "\n",
        "　　　　　　方程式(2)に式(3)を代入し，$\\bar l = 1$であることに注意すると，\n",
        "$$\n",
        "\\begin{eqnarray}\n",
        "  \\therefore\\frac{d^2}{d\\bar t^2}\\theta = -\\sin{\\theta}\\\\\n",
        "\\end{eqnarray}\n",
        "$$"
      ]
    },
    {
      "cell_type": "markdown",
      "metadata": {
        "id": "yryHime3ZYYB"
      },
      "source": [
        "参考URL：\n",
        "\n",
        "・[力学演習II シミュレーション (1) 参考資料](http://www.damp.tottori-u.ac.jp/~ooshida/lib/Num0610b.pdf) 2021/11/11 閲覧．\n",
        "\n",
        "・[無次元化が必要な理由と方法〜数値計算の疑問](https://www.mynote-jp.com/entry/dimensionless-quantity) 2021/11/11 閲覧．"
      ]
    },
    {
      "cell_type": "markdown",
      "metadata": {
        "id": "MI3i_PQB5M6-"
      },
      "source": [
        "##演習問題④\n",
        "___"
      ]
    },
    {
      "cell_type": "markdown",
      "metadata": {
        "id": "A56kVf025SQ8"
      },
      "source": [
        "次の微分方程式を無次元化して，Runge-Kutta法で数値計算せよ．\n",
        "\n",
        "$$\n",
        "\\begin{eqnarray}\n",
        "  M\\frac{dv}{dt} = Mg - \\beta v^2 \\quad (M = 1.0,g = 9.8, \\beta=1.5,v_0=0.10,t_0=0,t_{max}=10)\n",
        "\\end{eqnarray}\n",
        "$$"
      ]
    }
  ]
}